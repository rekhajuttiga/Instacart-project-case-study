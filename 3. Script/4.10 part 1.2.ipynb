{
 "cells": [
  {
   "cell_type": "code",
   "execution_count": 1,
   "id": "19f80930",
   "metadata": {},
   "outputs": [],
   "source": [
    "# Import libraries\n",
    "import pandas as pd\n",
    "import numpy as np\n",
    "import os\n",
    "import matplotlib.pyplot as plt\n",
    "import seaborn as sns\n",
    "import scipy\n",
    "import dask.dataframe as dd"
   ]
  },
  {
   "cell_type": "code",
   "execution_count": 2,
   "id": "7a9367d6",
   "metadata": {},
   "outputs": [],
   "source": [
    "df = pd.read_pickle(r'C:\\Users\\rekha\\OneDrive\\Documents\\Instacart Bascket Analysis\\2. Data\\prepared Data\\orders_products_customers_include.pkl')"
   ]
  },
  {
   "cell_type": "code",
   "execution_count": 3,
   "id": "4c76abcc",
   "metadata": {},
   "outputs": [],
   "source": [
    "path = r'C:\\Users\\rekha\\OneDrive\\Documents\\Instacart Bascket Analysis'"
   ]
  },
  {
   "cell_type": "code",
   "execution_count": 4,
   "id": "ad5a37c1",
   "metadata": {},
   "outputs": [],
   "source": [
    "df = pd.read_pickle(os.path.join(path, '2. Data', 'Prepared Data', 'orders_products_customers_include.pkl'))"
   ]
  },
  {
   "cell_type": "code",
   "execution_count": 5,
   "id": "f012095d",
   "metadata": {},
   "outputs": [],
   "source": [
    "df_include = df = pd.read_pickle(os.path.join(path, '2. Data', 'Prepared Data', 'orders_products_customers_include.pkl'))"
   ]
  },
  {
   "cell_type": "code",
   "execution_count": 6,
   "id": "9a5c1143",
   "metadata": {},
   "outputs": [
    {
     "data": {
      "text/plain": [
       "(30964564, 34)"
      ]
     },
     "execution_count": 6,
     "metadata": {},
     "output_type": "execute_result"
    }
   ],
   "source": [
    "df_include.shape"
   ]
  },
  {
   "cell_type": "code",
   "execution_count": 7,
   "id": "76a2aad0",
   "metadata": {},
   "outputs": [
    {
     "data": {
      "text/html": [
       "<div>\n",
       "<style scoped>\n",
       "    .dataframe tbody tr th:only-of-type {\n",
       "        vertical-align: middle;\n",
       "    }\n",
       "\n",
       "    .dataframe tbody tr th {\n",
       "        vertical-align: top;\n",
       "    }\n",
       "\n",
       "    .dataframe thead th {\n",
       "        text-align: right;\n",
       "    }\n",
       "</style>\n",
       "<table border=\"1\" class=\"dataframe\">\n",
       "  <thead>\n",
       "    <tr style=\"text-align: right;\">\n",
       "      <th></th>\n",
       "      <th>product_id</th>\n",
       "      <th>product_name</th>\n",
       "      <th>aisle_id</th>\n",
       "      <th>department_id</th>\n",
       "      <th>prices</th>\n",
       "      <th>order_id</th>\n",
       "      <th>user_id</th>\n",
       "      <th>order_number</th>\n",
       "      <th>orders_day_of_week</th>\n",
       "      <th>order_hour_of_day</th>\n",
       "      <th>...</th>\n",
       "      <th>surname</th>\n",
       "      <th>Gender</th>\n",
       "      <th>State</th>\n",
       "      <th>Age</th>\n",
       "      <th>date_joined</th>\n",
       "      <th>dependant_no</th>\n",
       "      <th>family_status</th>\n",
       "      <th>income</th>\n",
       "      <th>Region</th>\n",
       "      <th>exclusion_flag</th>\n",
       "    </tr>\n",
       "  </thead>\n",
       "  <tbody>\n",
       "    <tr>\n",
       "      <th>0</th>\n",
       "      <td>1</td>\n",
       "      <td>Chocolate Sandwich Cookies</td>\n",
       "      <td>61</td>\n",
       "      <td>19</td>\n",
       "      <td>5.8</td>\n",
       "      <td>3139998</td>\n",
       "      <td>138</td>\n",
       "      <td>28</td>\n",
       "      <td>6</td>\n",
       "      <td>11</td>\n",
       "      <td>...</td>\n",
       "      <td>Cox</td>\n",
       "      <td>Male</td>\n",
       "      <td>Minnesota</td>\n",
       "      <td>81</td>\n",
       "      <td>2019-08-01</td>\n",
       "      <td>1</td>\n",
       "      <td>married</td>\n",
       "      <td>49620</td>\n",
       "      <td>Midwest</td>\n",
       "      <td>Include</td>\n",
       "    </tr>\n",
       "    <tr>\n",
       "      <th>1</th>\n",
       "      <td>1</td>\n",
       "      <td>Chocolate Sandwich Cookies</td>\n",
       "      <td>61</td>\n",
       "      <td>19</td>\n",
       "      <td>5.8</td>\n",
       "      <td>1977647</td>\n",
       "      <td>138</td>\n",
       "      <td>30</td>\n",
       "      <td>6</td>\n",
       "      <td>17</td>\n",
       "      <td>...</td>\n",
       "      <td>Cox</td>\n",
       "      <td>Male</td>\n",
       "      <td>Minnesota</td>\n",
       "      <td>81</td>\n",
       "      <td>2019-08-01</td>\n",
       "      <td>1</td>\n",
       "      <td>married</td>\n",
       "      <td>49620</td>\n",
       "      <td>Midwest</td>\n",
       "      <td>Include</td>\n",
       "    </tr>\n",
       "    <tr>\n",
       "      <th>2</th>\n",
       "      <td>907</td>\n",
       "      <td>Premium Sliced Bacon</td>\n",
       "      <td>106</td>\n",
       "      <td>12</td>\n",
       "      <td>20.0</td>\n",
       "      <td>3160996</td>\n",
       "      <td>138</td>\n",
       "      <td>1</td>\n",
       "      <td>5</td>\n",
       "      <td>13</td>\n",
       "      <td>...</td>\n",
       "      <td>Cox</td>\n",
       "      <td>Male</td>\n",
       "      <td>Minnesota</td>\n",
       "      <td>81</td>\n",
       "      <td>2019-08-01</td>\n",
       "      <td>1</td>\n",
       "      <td>married</td>\n",
       "      <td>49620</td>\n",
       "      <td>Midwest</td>\n",
       "      <td>Include</td>\n",
       "    </tr>\n",
       "    <tr>\n",
       "      <th>3</th>\n",
       "      <td>907</td>\n",
       "      <td>Premium Sliced Bacon</td>\n",
       "      <td>106</td>\n",
       "      <td>12</td>\n",
       "      <td>20.0</td>\n",
       "      <td>2254091</td>\n",
       "      <td>138</td>\n",
       "      <td>10</td>\n",
       "      <td>5</td>\n",
       "      <td>14</td>\n",
       "      <td>...</td>\n",
       "      <td>Cox</td>\n",
       "      <td>Male</td>\n",
       "      <td>Minnesota</td>\n",
       "      <td>81</td>\n",
       "      <td>2019-08-01</td>\n",
       "      <td>1</td>\n",
       "      <td>married</td>\n",
       "      <td>49620</td>\n",
       "      <td>Midwest</td>\n",
       "      <td>Include</td>\n",
       "    </tr>\n",
       "    <tr>\n",
       "      <th>4</th>\n",
       "      <td>1000</td>\n",
       "      <td>Apricots</td>\n",
       "      <td>18</td>\n",
       "      <td>10</td>\n",
       "      <td>12.9</td>\n",
       "      <td>505689</td>\n",
       "      <td>138</td>\n",
       "      <td>9</td>\n",
       "      <td>6</td>\n",
       "      <td>12</td>\n",
       "      <td>...</td>\n",
       "      <td>Cox</td>\n",
       "      <td>Male</td>\n",
       "      <td>Minnesota</td>\n",
       "      <td>81</td>\n",
       "      <td>2019-08-01</td>\n",
       "      <td>1</td>\n",
       "      <td>married</td>\n",
       "      <td>49620</td>\n",
       "      <td>Midwest</td>\n",
       "      <td>Include</td>\n",
       "    </tr>\n",
       "  </tbody>\n",
       "</table>\n",
       "<p>5 rows × 34 columns</p>\n",
       "</div>"
      ],
      "text/plain": [
       "   product_id                product_name  aisle_id  department_id  prices  \\\n",
       "0           1  Chocolate Sandwich Cookies        61             19     5.8   \n",
       "1           1  Chocolate Sandwich Cookies        61             19     5.8   \n",
       "2         907        Premium Sliced Bacon       106             12    20.0   \n",
       "3         907        Premium Sliced Bacon       106             12    20.0   \n",
       "4        1000                    Apricots        18             10    12.9   \n",
       "\n",
       "   order_id  user_id  order_number  orders_day_of_week  order_hour_of_day  \\\n",
       "0   3139998      138            28                   6                 11   \n",
       "1   1977647      138            30                   6                 17   \n",
       "2   3160996      138             1                   5                 13   \n",
       "3   2254091      138            10                   5                 14   \n",
       "4    505689      138             9                   6                 12   \n",
       "\n",
       "   ...  surname  Gender      State Age date_joined dependant_no family_status  \\\n",
       "0  ...      Cox    Male  Minnesota  81  2019-08-01            1       married   \n",
       "1  ...      Cox    Male  Minnesota  81  2019-08-01            1       married   \n",
       "2  ...      Cox    Male  Minnesota  81  2019-08-01            1       married   \n",
       "3  ...      Cox    Male  Minnesota  81  2019-08-01            1       married   \n",
       "4  ...      Cox    Male  Minnesota  81  2019-08-01            1       married   \n",
       "\n",
       "   income   Region  exclusion_flag  \n",
       "0   49620  Midwest         Include  \n",
       "1   49620  Midwest         Include  \n",
       "2   49620  Midwest         Include  \n",
       "3   49620  Midwest         Include  \n",
       "4   49620  Midwest         Include  \n",
       "\n",
       "[5 rows x 34 columns]"
      ]
     },
     "execution_count": 7,
     "metadata": {},
     "output_type": "execute_result"
    }
   ],
   "source": [
    "df_include.head()"
   ]
  },
  {
   "cell_type": "code",
   "execution_count": 8,
   "id": "37e8c81d",
   "metadata": {},
   "outputs": [
    {
     "name": "stdout",
     "output_type": "stream",
     "text": [
      "<class 'pandas.core.frame.DataFrame'>\n",
      "Index: 30964564 entries, 0 to 32404847\n",
      "Data columns (total 34 columns):\n",
      " #   Column                      Dtype         \n",
      "---  ------                      -----         \n",
      " 0   product_id                  int64         \n",
      " 1   product_name                object        \n",
      " 2   aisle_id                    int64         \n",
      " 3   department_id               int64         \n",
      " 4   prices                      float64       \n",
      " 5   order_id                    int64         \n",
      " 6   user_id                     int64         \n",
      " 7   order_number                int64         \n",
      " 8   orders_day_of_week          int64         \n",
      " 9   order_hour_of_day           int64         \n",
      " 10  days_since_prior_order      float64       \n",
      " 11  add_to_cart_order           int64         \n",
      " 12  reordered                   int64         \n",
      " 13  _merge                      category      \n",
      " 14  price_range_loc             object        \n",
      " 15  Busiest_days                object        \n",
      " 16  Busiest_period_of_day       object        \n",
      " 17  max_order                   int64         \n",
      " 18  loyalty_flag                object        \n",
      " 19  mean_product_price          float64       \n",
      " 20  spending_flag               object        \n",
      " 21  median_days_between_orders  float64       \n",
      " 22  frequency_flag              object        \n",
      " 23  first_name                  object        \n",
      " 24  surname                     object        \n",
      " 25  Gender                      object        \n",
      " 26  State                       object        \n",
      " 27  Age                         int64         \n",
      " 28  date_joined                 datetime64[ns]\n",
      " 29  dependant_no                int64         \n",
      " 30  family_status               object        \n",
      " 31  income                      int64         \n",
      " 32  Region                      object        \n",
      " 33  exclusion_flag              object        \n",
      "dtypes: category(1), datetime64[ns](1), float64(4), int64(14), object(14)\n",
      "memory usage: 7.9+ GB\n"
     ]
    }
   ],
   "source": [
    "df_include.info()"
   ]
  },
  {
   "cell_type": "code",
   "execution_count": 9,
   "id": "1a9eb581",
   "metadata": {},
   "outputs": [
    {
     "data": {
      "text/plain": [
       "Index(['product_id', 'product_name', 'aisle_id', 'department_id', 'prices',\n",
       "       'order_id', 'user_id', 'order_number', 'orders_day_of_week',\n",
       "       'order_hour_of_day', 'days_since_prior_order', 'add_to_cart_order',\n",
       "       'reordered', '_merge', 'price_range_loc', 'Busiest_days',\n",
       "       'Busiest_period_of_day', 'max_order', 'loyalty_flag',\n",
       "       'mean_product_price', 'spending_flag', 'median_days_between_orders',\n",
       "       'frequency_flag', 'first_name', 'surname', 'Gender', 'State', 'Age',\n",
       "       'date_joined', 'dependant_no', 'family_status', 'income', 'Region',\n",
       "       'exclusion_flag'],\n",
       "      dtype='object')"
      ]
     },
     "execution_count": 9,
     "metadata": {},
     "output_type": "execute_result"
    }
   ],
   "source": [
    "df_include.columns"
   ]
  },
  {
   "cell_type": "markdown",
   "id": "fb4d0839",
   "metadata": {},
   "source": [
    "# 4. Customer profile"
   ]
  },
  {
   "cell_type": "markdown",
   "id": "24734b0d",
   "metadata": {},
   "source": [
    "## How to  profile customer? \n",
    "\n",
    "1.  Categorizing customers by following 4 criteria\n",
    "    1) age - young / middle / elder\n",
    "    2) income - low / middle / high\n",
    "    3) family status - married / non-married\n",
    "\n",
    "2. link customer profile to \n",
    "    1) department_id\n",
    "    2) which item in the top 3 department\n",
    "    3) spending (the sum of 'prices' records)"
   ]
  },
  {
   "cell_type": "markdown",
   "id": "7ecd5b48",
   "metadata": {},
   "source": [
    "### 4-1) age - young(11) / middle(12) / elder(13)"
   ]
  },
  {
   "cell_type": "code",
   "execution_count": 10,
   "id": "3b2cf959",
   "metadata": {},
   "outputs": [
    {
     "data": {
      "text/plain": [
       "count    3.096456e+07\n",
       "mean     4.946803e+01\n",
       "std      1.848528e+01\n",
       "min      1.800000e+01\n",
       "25%      3.300000e+01\n",
       "50%      4.900000e+01\n",
       "75%      6.500000e+01\n",
       "max      8.100000e+01\n",
       "Name: Age, dtype: float64"
      ]
     },
     "execution_count": 10,
     "metadata": {},
     "output_type": "execute_result"
    }
   ],
   "source": [
    "df_include['Age'].describe()"
   ]
  },
  {
   "cell_type": "code",
   "execution_count": 11,
   "id": "ee875af2",
   "metadata": {},
   "outputs": [],
   "source": [
    "df_include.loc[df_include['Age'] >=65, 'Age_category'] =13\n",
    "df_include.loc[df_include['Age'] <33, 'Age_category'] =11\n"
   ]
  },
  {
   "cell_type": "code",
   "execution_count": 12,
   "id": "cc7afffa",
   "metadata": {},
   "outputs": [
    {
     "data": {
      "text/plain": [
       "array([13., nan, 11.])"
      ]
     },
     "execution_count": 12,
     "metadata": {},
     "output_type": "execute_result"
    }
   ],
   "source": [
    "df_include['Age_category'].unique()"
   ]
  },
  {
   "cell_type": "code",
   "execution_count": 13,
   "id": "8c5473b4",
   "metadata": {},
   "outputs": [],
   "source": [
    "df_include.loc[df_include['Age_category'].isna(), 'Age_category'] = 12"
   ]
  },
  {
   "cell_type": "code",
   "execution_count": 14,
   "id": "2ff30978",
   "metadata": {},
   "outputs": [
    {
     "data": {
      "text/plain": [
       "Age_category\n",
       "12.0    15483886\n",
       "13.0     8195544\n",
       "11.0     7285134\n",
       "Name: count, dtype: int64"
      ]
     },
     "execution_count": 14,
     "metadata": {},
     "output_type": "execute_result"
    }
   ],
   "source": [
    "df_include['Age_category'].value_counts()"
   ]
  },
  {
   "cell_type": "code",
   "execution_count": 15,
   "id": "63c071f6",
   "metadata": {},
   "outputs": [],
   "source": [
    "# changing data type to int8 \n",
    "    \n",
    "df_include['Age_category']=df_include['Age_category'].astype('int8')"
   ]
  },
  {
   "cell_type": "markdown",
   "id": "0e8304c6",
   "metadata": {},
   "source": [
    "### 4-2) Income - Low(21) / Mid(22) / High(23)"
   ]
  },
  {
   "cell_type": "code",
   "execution_count": 16,
   "id": "aeeb8388",
   "metadata": {},
   "outputs": [
    {
     "data": {
      "text/plain": [
       "count    3.096456e+07\n",
       "mean     9.967587e+04\n",
       "std      4.314187e+04\n",
       "min      2.590300e+04\n",
       "25%      6.729200e+04\n",
       "50%      9.676500e+04\n",
       "75%      1.281020e+05\n",
       "max      5.939010e+05\n",
       "Name: income, dtype: float64"
      ]
     },
     "execution_count": 16,
     "metadata": {},
     "output_type": "execute_result"
    }
   ],
   "source": [
    "df_include['income'].describe()"
   ]
  },
  {
   "cell_type": "code",
   "execution_count": 17,
   "id": "29521917",
   "metadata": {},
   "outputs": [],
   "source": [
    "df_include.loc[df_include['income'] >=128102, 'income_category'] ='23'\n",
    "df_include.loc[df_include['income'] <67292, 'income_category'] ='21'"
   ]
  },
  {
   "cell_type": "code",
   "execution_count": 18,
   "id": "135a44b5",
   "metadata": {},
   "outputs": [],
   "source": [
    "df_include.loc[df_include['income_category'] =='na', 'income_category'] = '22'"
   ]
  },
  {
   "cell_type": "code",
   "execution_count": 19,
   "id": "7ff81a57",
   "metadata": {},
   "outputs": [
    {
     "data": {
      "text/plain": [
       "income_category\n",
       "22    15482298\n",
       "23     7741261\n",
       "21     7741005\n",
       "Name: count, dtype: int64"
      ]
     },
     "execution_count": 19,
     "metadata": {},
     "output_type": "execute_result"
    }
   ],
   "source": [
    "df_include['income_category'].value_counts()"
   ]
  },
  {
   "cell_type": "code",
   "execution_count": 20,
   "id": "f853cedf",
   "metadata": {},
   "outputs": [
    {
     "data": {
      "text/plain": [
       "(30964564,)"
      ]
     },
     "execution_count": 20,
     "metadata": {},
     "output_type": "execute_result"
    }
   ],
   "source": [
    "df_include['income_category'].shape"
   ]
  },
  {
   "cell_type": "code",
   "execution_count": 21,
   "id": "20971459",
   "metadata": {},
   "outputs": [],
   "source": [
    "# changing data type to int8 \n",
    "\n",
    "df_include['income_category']=df_include['income_category'].astype('int8')\n",
    "   \n",
    "  "
   ]
  },
  {
   "cell_type": "markdown",
   "id": "9fdabdae",
   "metadata": {},
   "source": [
    "### 4-3) Family Status - Married 31 / Non-married 32"
   ]
  },
  {
   "cell_type": "code",
   "execution_count": 22,
   "id": "d65e71a4",
   "metadata": {},
   "outputs": [
    {
     "data": {
      "image/png": "[encoded data removed]",
      "text/plain": [
       "<Figure size 640x480 with 1 Axes>"
      ]
     },
     "metadata": {},
     "output_type": "display_data"
    }
   ],
   "source": [
    "# pie chart - 'Share of family status'\n",
    "\n",
    "pie_family_status = df_include['family_status'].value_counts().plot.pie(autopct='%1.1f%%', title='Share of family Status')"
   ]
  },
  {
   "cell_type": "code",
   "execution_count": 23,
   "id": "775d070b",
   "metadata": {},
   "outputs": [],
   "source": [
    "df_include.loc[df_include['family_status']  == 'married', 'Family_category'] ='31'"
   ]
  },
  {
   "cell_type": "code",
   "execution_count": 24,
   "id": "776e3298",
   "metadata": {},
   "outputs": [],
   "source": [
    "df_include.loc[df_include['Family_category']  == 'na', 'Family_category'] ='32'"
   ]
  },
  {
   "cell_type": "code",
   "execution_count": 25,
   "id": "9da6c032",
   "metadata": {},
   "outputs": [
    {
     "data": {
      "text/plain": [
       "(30964564,)"
      ]
     },
     "execution_count": 25,
     "metadata": {},
     "output_type": "execute_result"
    }
   ],
   "source": [
    "df_include['Family_category'].shape"
   ]
  },
  {
   "cell_type": "code",
   "execution_count": 26,
   "id": "3ec1f09e",
   "metadata": {},
   "outputs": [
    {
     "data": {
      "text/plain": [
       "Family_category\n",
       "31    21743711\n",
       "32     9220853\n",
       "Name: count, dtype: int64"
      ]
     },
     "execution_count": 26,
     "metadata": {},
     "output_type": "execute_result"
    }
   ],
   "source": [
    "df_include['Family_category'].value_counts()"
   ]
  },
  {
   "cell_type": "code",
   "execution_count": 27,
   "id": "2950bd22",
   "metadata": {},
   "outputs": [],
   "source": [
    "# changing data type to int8 \n",
    "\n",
    "df_include['Family_category']=df_include['Family_category'].astype('int8')"
   ]
  },
  {
   "cell_type": "markdown",
   "id": "b4bb53c6",
   "metadata": {},
   "source": [
    "### 4-4) customer profile - age+income+marriage"
   ]
  },
  {
   "cell_type": "code",
   "execution_count": 28,
   "id": "a8e4bf45",
   "metadata": {},
   "outputs": [],
   "source": [
    "import pandas as pd\n",
    "from itertools import product"
   ]
  },
  {
   "cell_type": "code",
   "execution_count": 29,
   "id": "b2cb1f4e",
   "metadata": {},
   "outputs": [],
   "source": [
    "#### Define mappings for each category\n",
    "\n",
    "Age_mapping = {11: 'Young', 12: 'Middle', 13: 'Elder'}\n",
    "income_mapping = {21: 'Low', 22: 'Mid', 23: 'High'}\n",
    "family_mapping = {31: 'Married', 32: 'Non-Married'}"
   ]
  },
  {
   "cell_type": "code",
   "execution_count": 30,
   "id": "2597e971",
   "metadata": {},
   "outputs": [],
   "source": [
    "#### Generate all combinations\n",
    "\n",
    "Age_categories = df_include['Age_category'].unique()\n",
    "income_categories = df_include['income_category'].unique()\n",
    "family_categories = df_include['Family_category'].unique()\n",
    "all_combinations = product(Age_categories, income_categories, family_categories)"
   ]
  },
  {
   "cell_type": "code",
   "execution_count": 31,
   "id": "14c9c008",
   "metadata": {},
   "outputs": [],
   "source": [
    "# Create 'customer_profile' column\n",
    "df_include['customer_profile'] = ''\n",
    "    \n",
    "for combination in all_combinations:\n",
    "    Age, income, family = combination\n",
    "    filter_condition = (df_include['Age_category'] == Age) & \\\n",
    "                       (df_include['income_category'] == income) & \\\n",
    "                       (df_include['Family_category'] == family)\n",
    "    df_include.loc[filter_condition, 'customer_profile'] = f'{Age_mapping[Age]}_{income_mapping[income]}_{family_mapping[family]}'"
   ]
  },
  {
   "cell_type": "code",
   "execution_count": 32,
   "id": "662d9162",
   "metadata": {},
   "outputs": [
    {
     "data": {
      "text/plain": [
       "customer_profile\n",
       "Middle_Mid_Married         5737865\n",
       "Middle_High_Married        3366928\n",
       "Elder_Mid_Married          3003430\n",
       "Middle_Low_Married         2478126\n",
       "Elder_High_Married         2366940\n",
       "Young_Mid_Married          2076619\n",
       "Middle_Mid_Non-Married     1915831\n",
       "Young_Low_Married          1865367\n",
       "Young_Mid_Non-Married      1748087\n",
       "Young_Low_Non-Married      1512981\n",
       "Middle_High_Non-Married    1154716\n",
       "Elder_Mid_Non-Married      1000466\n",
       "Middle_Low_Non-Married      830420\n",
       "Elder_Low_Married           803216\n",
       "Elder_High_Non-Married      770597\n",
       "Elder_Low_Non-Married       250895\n",
       "Young_High_Married           45220\n",
       "Young_High_Non-Married       36860\n",
       "Name: count, dtype: int64"
      ]
     },
     "execution_count": 32,
     "metadata": {},
     "output_type": "execute_result"
    }
   ],
   "source": [
    "df_include['customer_profile'].value_counts()"
   ]
  },
  {
   "cell_type": "code",
   "execution_count": 33,
   "id": "3d2d81e5",
   "metadata": {},
   "outputs": [
    {
     "data": {
      "text/plain": [
       "(30964564,)"
      ]
     },
     "execution_count": 33,
     "metadata": {},
     "output_type": "execute_result"
    }
   ],
   "source": [
    "df_include['customer_profile'].shape"
   ]
  },
  {
   "cell_type": "code",
   "execution_count": null,
   "id": "8e7952ae",
   "metadata": {},
   "outputs": [],
   "source": [
    "# Customer profile and department\n",
    "\n",
    "link customer profile to Top 3 department_id"
   ]
  },
  {
   "cell_type": "code",
   "execution_count": 35,
   "id": "9ea24f62",
   "metadata": {},
   "outputs": [],
   "source": [
    "top_departments = (df_include.groupby('customer_profile')['department_id']\n",
    "                        .apply(lambda x: x.value_counts().nlargest(3).index.tolist())\n",
    "                        .reset_index(name='top_department_ids'))"
   ]
  },
  {
   "cell_type": "code",
   "execution_count": 36,
   "id": "f84fd45b",
   "metadata": {},
   "outputs": [
    {
     "data": {
      "text/html": [
       "<div>\n",
       "<style scoped>\n",
       "    .dataframe tbody tr th:only-of-type {\n",
       "        vertical-align: middle;\n",
       "    }\n",
       "\n",
       "    .dataframe tbody tr th {\n",
       "        vertical-align: top;\n",
       "    }\n",
       "\n",
       "    .dataframe thead th {\n",
       "        text-align: right;\n",
       "    }\n",
       "</style>\n",
       "<table border=\"1\" class=\"dataframe\">\n",
       "  <thead>\n",
       "    <tr style=\"text-align: right;\">\n",
       "      <th></th>\n",
       "      <th>customer_profile</th>\n",
       "      <th>top_department_ids</th>\n",
       "    </tr>\n",
       "  </thead>\n",
       "  <tbody>\n",
       "    <tr>\n",
       "      <th>0</th>\n",
       "      <td>Elder_High_Married</td>\n",
       "      <td>[4, 16, 7]</td>\n",
       "    </tr>\n",
       "    <tr>\n",
       "      <th>1</th>\n",
       "      <td>Elder_High_Non-Married</td>\n",
       "      <td>[4, 16, 7]</td>\n",
       "    </tr>\n",
       "    <tr>\n",
       "      <th>2</th>\n",
       "      <td>Elder_Low_Married</td>\n",
       "      <td>[4, 19, 16]</td>\n",
       "    </tr>\n",
       "    <tr>\n",
       "      <th>3</th>\n",
       "      <td>Elder_Low_Non-Married</td>\n",
       "      <td>[4, 19, 16]</td>\n",
       "    </tr>\n",
       "    <tr>\n",
       "      <th>4</th>\n",
       "      <td>Elder_Mid_Married</td>\n",
       "      <td>[4, 16, 19]</td>\n",
       "    </tr>\n",
       "    <tr>\n",
       "      <th>5</th>\n",
       "      <td>Elder_Mid_Non-Married</td>\n",
       "      <td>[4, 16, 7]</td>\n",
       "    </tr>\n",
       "    <tr>\n",
       "      <th>6</th>\n",
       "      <td>Middle_High_Married</td>\n",
       "      <td>[4, 16, 7]</td>\n",
       "    </tr>\n",
       "    <tr>\n",
       "      <th>7</th>\n",
       "      <td>Middle_High_Non-Married</td>\n",
       "      <td>[4, 16, 7]</td>\n",
       "    </tr>\n",
       "    <tr>\n",
       "      <th>8</th>\n",
       "      <td>Middle_Low_Married</td>\n",
       "      <td>[4, 16, 19]</td>\n",
       "    </tr>\n",
       "    <tr>\n",
       "      <th>9</th>\n",
       "      <td>Middle_Low_Non-Married</td>\n",
       "      <td>[4, 16, 19]</td>\n",
       "    </tr>\n",
       "    <tr>\n",
       "      <th>10</th>\n",
       "      <td>Middle_Mid_Married</td>\n",
       "      <td>[4, 16, 7]</td>\n",
       "    </tr>\n",
       "    <tr>\n",
       "      <th>11</th>\n",
       "      <td>Middle_Mid_Non-Married</td>\n",
       "      <td>[4, 16, 7]</td>\n",
       "    </tr>\n",
       "    <tr>\n",
       "      <th>12</th>\n",
       "      <td>Young_High_Married</td>\n",
       "      <td>[4, 16, 7]</td>\n",
       "    </tr>\n",
       "    <tr>\n",
       "      <th>13</th>\n",
       "      <td>Young_High_Non-Married</td>\n",
       "      <td>[4, 16, 7]</td>\n",
       "    </tr>\n",
       "    <tr>\n",
       "      <th>14</th>\n",
       "      <td>Young_Low_Married</td>\n",
       "      <td>[4, 16, 19]</td>\n",
       "    </tr>\n",
       "    <tr>\n",
       "      <th>15</th>\n",
       "      <td>Young_Low_Non-Married</td>\n",
       "      <td>[4, 16, 19]</td>\n",
       "    </tr>\n",
       "    <tr>\n",
       "      <th>16</th>\n",
       "      <td>Young_Mid_Married</td>\n",
       "      <td>[4, 16, 19]</td>\n",
       "    </tr>\n",
       "    <tr>\n",
       "      <th>17</th>\n",
       "      <td>Young_Mid_Non-Married</td>\n",
       "      <td>[4, 16, 19]</td>\n",
       "    </tr>\n",
       "  </tbody>\n",
       "</table>\n",
       "</div>"
      ],
      "text/plain": [
       "           customer_profile top_department_ids\n",
       "0        Elder_High_Married         [4, 16, 7]\n",
       "1    Elder_High_Non-Married         [4, 16, 7]\n",
       "2         Elder_Low_Married        [4, 19, 16]\n",
       "3     Elder_Low_Non-Married        [4, 19, 16]\n",
       "4         Elder_Mid_Married        [4, 16, 19]\n",
       "5     Elder_Mid_Non-Married         [4, 16, 7]\n",
       "6       Middle_High_Married         [4, 16, 7]\n",
       "7   Middle_High_Non-Married         [4, 16, 7]\n",
       "8        Middle_Low_Married        [4, 16, 19]\n",
       "9    Middle_Low_Non-Married        [4, 16, 19]\n",
       "10       Middle_Mid_Married         [4, 16, 7]\n",
       "11   Middle_Mid_Non-Married         [4, 16, 7]\n",
       "12       Young_High_Married         [4, 16, 7]\n",
       "13   Young_High_Non-Married         [4, 16, 7]\n",
       "14        Young_Low_Married        [4, 16, 19]\n",
       "15    Young_Low_Non-Married        [4, 16, 19]\n",
       "16        Young_Mid_Married        [4, 16, 19]\n",
       "17    Young_Mid_Non-Married        [4, 16, 19]"
      ]
     },
     "execution_count": 36,
     "metadata": {},
     "output_type": "execute_result"
    }
   ],
   "source": [
    "top_departments"
   ]
  },
  {
   "cell_type": "code",
   "execution_count": 37,
   "id": "f94512b4",
   "metadata": {},
   "outputs": [],
   "source": [
    "#copy result to clipboard for Excel. \n",
    "\n",
    "top_departments.to_clipboard()"
   ]
  },
  {
   "cell_type": "markdown",
   "id": "ec263423",
   "metadata": {},
   "source": [
    "# findings\n",
    "\n",
    "- The most-selling department is 4 (produced) following by 16 (dairy eggs) , 7 (beverage), 19 (snaks)\n",
    "- High income customers spend more for 7. beverage \\n\",\n",
    "- In the only Low-income Elder group, the second selling department is 19. snaks, they probably need more 16. dairy eggs, because Elder group with mid and high income consume more 16. dairy eggs\n",
    "    \n",
    "# recommendations: \n",
    "\n",
    "1) enalarge the variety of beverages, High and mid income group have preference for beverage. \n",
    "2) Specific marketing about dairy egg For the health of low-income Elder group, it could be social responsibilty of the company. \n",
    "   "
   ]
  },
  {
   "cell_type": "code",
   "execution_count": 38,
   "id": "fc8145d7",
   "metadata": {},
   "outputs": [],
   "source": [
    "# link customer profile to Top 3 days of week\n",
    "\n",
    "top_days = (df_include.groupby('customer_profile')['orders_day_of_week']\n",
    "                          .apply(lambda x: x.value_counts().nlargest(3).index.tolist())\n",
    "                          .reset_index(name='top_order_day_of_week'))\n",
    "   "
   ]
  },
  {
   "cell_type": "code",
   "execution_count": 39,
   "id": "4366f9df",
   "metadata": {},
   "outputs": [
    {
     "data": {
      "text/html": [
       "<div>\n",
       "<style scoped>\n",
       "    .dataframe tbody tr th:only-of-type {\n",
       "        vertical-align: middle;\n",
       "    }\n",
       "\n",
       "    .dataframe tbody tr th {\n",
       "        vertical-align: top;\n",
       "    }\n",
       "\n",
       "    .dataframe thead th {\n",
       "        text-align: right;\n",
       "    }\n",
       "</style>\n",
       "<table border=\"1\" class=\"dataframe\">\n",
       "  <thead>\n",
       "    <tr style=\"text-align: right;\">\n",
       "      <th></th>\n",
       "      <th>customer_profile</th>\n",
       "      <th>top_order_day_of_week</th>\n",
       "    </tr>\n",
       "  </thead>\n",
       "  <tbody>\n",
       "    <tr>\n",
       "      <th>0</th>\n",
       "      <td>Elder_High_Married</td>\n",
       "      <td>[0, 1, 6]</td>\n",
       "    </tr>\n",
       "    <tr>\n",
       "      <th>1</th>\n",
       "      <td>Elder_High_Non-Married</td>\n",
       "      <td>[0, 1, 6]</td>\n",
       "    </tr>\n",
       "    <tr>\n",
       "      <th>2</th>\n",
       "      <td>Elder_Low_Married</td>\n",
       "      <td>[1, 0, 2]</td>\n",
       "    </tr>\n",
       "    <tr>\n",
       "      <th>3</th>\n",
       "      <td>Elder_Low_Non-Married</td>\n",
       "      <td>[1, 0, 5]</td>\n",
       "    </tr>\n",
       "    <tr>\n",
       "      <th>4</th>\n",
       "      <td>Elder_Mid_Married</td>\n",
       "      <td>[0, 1, 6]</td>\n",
       "    </tr>\n",
       "    <tr>\n",
       "      <th>5</th>\n",
       "      <td>Elder_Mid_Non-Married</td>\n",
       "      <td>[0, 1, 6]</td>\n",
       "    </tr>\n",
       "    <tr>\n",
       "      <th>6</th>\n",
       "      <td>Middle_High_Married</td>\n",
       "      <td>[0, 1, 6]</td>\n",
       "    </tr>\n",
       "    <tr>\n",
       "      <th>7</th>\n",
       "      <td>Middle_High_Non-Married</td>\n",
       "      <td>[0, 1, 6]</td>\n",
       "    </tr>\n",
       "    <tr>\n",
       "      <th>8</th>\n",
       "      <td>Middle_Low_Married</td>\n",
       "      <td>[1, 0, 2]</td>\n",
       "    </tr>\n",
       "    <tr>\n",
       "      <th>9</th>\n",
       "      <td>Middle_Low_Non-Married</td>\n",
       "      <td>[1, 0, 5]</td>\n",
       "    </tr>\n",
       "    <tr>\n",
       "      <th>10</th>\n",
       "      <td>Middle_Mid_Married</td>\n",
       "      <td>[0, 1, 6]</td>\n",
       "    </tr>\n",
       "    <tr>\n",
       "      <th>11</th>\n",
       "      <td>Middle_Mid_Non-Married</td>\n",
       "      <td>[0, 1, 6]</td>\n",
       "    </tr>\n",
       "    <tr>\n",
       "      <th>12</th>\n",
       "      <td>Young_High_Married</td>\n",
       "      <td>[1, 0, 5]</td>\n",
       "    </tr>\n",
       "    <tr>\n",
       "      <th>13</th>\n",
       "      <td>Young_High_Non-Married</td>\n",
       "      <td>[1, 0, 5]</td>\n",
       "    </tr>\n",
       "    <tr>\n",
       "      <th>14</th>\n",
       "      <td>Young_Low_Married</td>\n",
       "      <td>[0, 1, 6]</td>\n",
       "    </tr>\n",
       "    <tr>\n",
       "      <th>15</th>\n",
       "      <td>Young_Low_Non-Married</td>\n",
       "      <td>[1, 0, 2]</td>\n",
       "    </tr>\n",
       "    <tr>\n",
       "      <th>16</th>\n",
       "      <td>Young_Mid_Married</td>\n",
       "      <td>[0, 1, 6]</td>\n",
       "    </tr>\n",
       "    <tr>\n",
       "      <th>17</th>\n",
       "      <td>Young_Mid_Non-Married</td>\n",
       "      <td>[0, 1, 6]</td>\n",
       "    </tr>\n",
       "  </tbody>\n",
       "</table>\n",
       "</div>"
      ],
      "text/plain": [
       "           customer_profile top_order_day_of_week\n",
       "0        Elder_High_Married             [0, 1, 6]\n",
       "1    Elder_High_Non-Married             [0, 1, 6]\n",
       "2         Elder_Low_Married             [1, 0, 2]\n",
       "3     Elder_Low_Non-Married             [1, 0, 5]\n",
       "4         Elder_Mid_Married             [0, 1, 6]\n",
       "5     Elder_Mid_Non-Married             [0, 1, 6]\n",
       "6       Middle_High_Married             [0, 1, 6]\n",
       "7   Middle_High_Non-Married             [0, 1, 6]\n",
       "8        Middle_Low_Married             [1, 0, 2]\n",
       "9    Middle_Low_Non-Married             [1, 0, 5]\n",
       "10       Middle_Mid_Married             [0, 1, 6]\n",
       "11   Middle_Mid_Non-Married             [0, 1, 6]\n",
       "12       Young_High_Married             [1, 0, 5]\n",
       "13   Young_High_Non-Married             [1, 0, 5]\n",
       "14        Young_Low_Married             [0, 1, 6]\n",
       "15    Young_Low_Non-Married             [1, 0, 2]\n",
       "16        Young_Mid_Married             [0, 1, 6]\n",
       "17    Young_Mid_Non-Married             [0, 1, 6]"
      ]
     },
     "execution_count": 39,
     "metadata": {},
     "output_type": "execute_result"
    }
   ],
   "source": [
    "top_days"
   ]
  },
  {
   "cell_type": "markdown",
   "id": "90472b93",
   "metadata": {},
   "source": [
    "# findings\n",
    "\n",
    "- all customers visit mostly weekend (0: Saturday, 1: Sunday, 6: Friday / 2: Monday, 5: Thursday)\n",
    "\n",
    "# Recommendation: \n",
    "\n",
    "focus on weekend, from Friday to Sunday. \n",
    "   "
   ]
  },
  {
   "cell_type": "markdown",
   "id": "2fba0669",
   "metadata": {},
   "source": [
    "# Distributions by profiles"
   ]
  },
  {
   "cell_type": "markdown",
   "id": "e710ea25",
   "metadata": {},
   "source": [
    "#### distribution of customer profile"
   ]
  },
  {
   "cell_type": "code",
   "execution_count": 40,
   "id": "71d19327",
   "metadata": {},
   "outputs": [
    {
     "data": {
      "image/png": "[encoded data removed]",
      "text/plain": [
       "<Figure size 640x480 with 1 Axes>"
      ]
     },
     "metadata": {},
     "output_type": "display_data"
    }
   ],
   "source": [
    "plt.title('distribution of customer profile')\n",
    "bar_profile = df_include['customer_profile'].value_counts().sort_index().plot.bar(color='green')\n",
    "   "
   ]
  },
  {
   "cell_type": "code",
   "execution_count": 41,
   "id": "e14e3991",
   "metadata": {},
   "outputs": [],
   "source": [
    "bar_profile.figure.savefig(os.path.join(path,'4. Analysis/Visualizations/bar_profile.png'))"
   ]
  },
  {
   "cell_type": "markdown",
   "id": "00e5e535",
   "metadata": {},
   "source": [
    "#### distribution by income"
   ]
  },
  {
   "cell_type": "code",
   "execution_count": 42,
   "id": "820cf275",
   "metadata": {},
   "outputs": [
    {
     "data": {
      "image/png": "[encoded data removed]",
      "text/plain": [
       "<Figure size 640x480 with 1 Axes>"
      ]
     },
     "metadata": {},
     "output_type": "display_data"
    }
   ],
   "source": [
    "plt.title('distribution by Income')\n",
    "bar_income_distribution = df_include['income_category'].value_counts().sort_index().plot.bar(color='green')"
   ]
  },
  {
   "cell_type": "code",
   "execution_count": 43,
   "id": "fcfa3a4b",
   "metadata": {},
   "outputs": [],
   "source": [
    "bar_income_distribution.figure.savefig(os.path.join(path,'4. Analysis/Visualizations/bar_income_distribution.png'))"
   ]
  },
  {
   "cell_type": "markdown",
   "id": "c0a3c534",
   "metadata": {},
   "source": [
    "#### distribution by Age"
   ]
  },
  {
   "cell_type": "code",
   "execution_count": 44,
   "id": "d14938d4",
   "metadata": {},
   "outputs": [
    {
     "data": {
      "image/png": "[encoded data removed]",
      "text/plain": [
       "<Figure size 640x480 with 1 Axes>"
      ]
     },
     "metadata": {},
     "output_type": "display_data"
    }
   ],
   "source": [
    "plt.title('distribution by age')\n",
    "bar_Age_distribution = df_include['Age_category'].value_counts().sort_index().plot.bar(color='green')"
   ]
  },
  {
   "cell_type": "code",
   "execution_count": 45,
   "id": "45332219",
   "metadata": {},
   "outputs": [],
   "source": [
    "bar_Age_distribution.figure.savefig(os.path.join(path,'4. Analysis/Visualizations/bar_age_distribution.png'))"
   ]
  },
  {
   "cell_type": "markdown",
   "id": "f351c947",
   "metadata": {},
   "source": [
    "# Findings\n",
    "\n",
    "- The customers who are middle ages, mid-incom, married are the largest number.\n",
    "\n",
    "** Largest Number of customer by profile\n",
    "    1) Middle ages, Mid-incom, Married \n",
    "    2) Middle ages, High-income, Married\n",
    "    3) Elder, Mid-income, Married\n",
    "\n",
    "** Lowest Number of customer by profile\n",
    "    1) Yong, High-income, Non Married\n",
    "    2) Young, High-income, Married\n",
    "    3) Elder, Low-income, Non Married\n",
    "\n",
    "# Findings\n",
    "\n",
    "    1) Middle age are largest customer class\n",
    "    2) The number of Young mid-low incomes are quite large number regardless marriage"
   ]
  },
  {
   "cell_type": "markdown",
   "id": "f47c94a7",
   "metadata": {},
   "source": [
    "# 7. Customer profile and expenditure "
   ]
  },
  {
   "cell_type": "code",
   "execution_count": 46,
   "id": "434b8f34",
   "metadata": {},
   "outputs": [],
   "source": [
    "# Aggregate the max, mean, and min variables on a customer-profile level for usage frequency and expenditure.\n",
    "\n",
    "### max, mean, min of usage frequency"
   ]
  },
  {
   "cell_type": "code",
   "execution_count": 47,
   "id": "f2a23bf9",
   "metadata": {},
   "outputs": [],
   "source": [
    "frequency_profile = df_include.groupby('customer_profile').agg({'days_since_prior_order':['mean', 'min', 'max']})"
   ]
  },
  {
   "cell_type": "code",
   "execution_count": 48,
   "id": "6fc18923",
   "metadata": {},
   "outputs": [
    {
     "data": {
      "text/html": [
       "<div>\n",
       "<style scoped>\n",
       "    .dataframe tbody tr th:only-of-type {\n",
       "        vertical-align: middle;\n",
       "    }\n",
       "\n",
       "    .dataframe tbody tr th {\n",
       "        vertical-align: top;\n",
       "    }\n",
       "\n",
       "    .dataframe thead tr th {\n",
       "        text-align: left;\n",
       "    }\n",
       "\n",
       "    .dataframe thead tr:last-of-type th {\n",
       "        text-align: right;\n",
       "    }\n",
       "</style>\n",
       "<table border=\"1\" class=\"dataframe\">\n",
       "  <thead>\n",
       "    <tr>\n",
       "      <th></th>\n",
       "      <th colspan=\"3\" halign=\"left\">days_since_prior_order</th>\n",
       "    </tr>\n",
       "    <tr>\n",
       "      <th></th>\n",
       "      <th>mean</th>\n",
       "      <th>min</th>\n",
       "      <th>max</th>\n",
       "    </tr>\n",
       "    <tr>\n",
       "      <th>customer_profile</th>\n",
       "      <th></th>\n",
       "      <th></th>\n",
       "      <th></th>\n",
       "    </tr>\n",
       "  </thead>\n",
       "  <tbody>\n",
       "    <tr>\n",
       "      <th>Elder_High_Married</th>\n",
       "      <td>10.707685</td>\n",
       "      <td>0.0</td>\n",
       "      <td>30.0</td>\n",
       "    </tr>\n",
       "    <tr>\n",
       "      <th>Elder_High_Non-Married</th>\n",
       "      <td>10.738605</td>\n",
       "      <td>0.0</td>\n",
       "      <td>30.0</td>\n",
       "    </tr>\n",
       "    <tr>\n",
       "      <th>Elder_Low_Married</th>\n",
       "      <td>11.028144</td>\n",
       "      <td>0.0</td>\n",
       "      <td>30.0</td>\n",
       "    </tr>\n",
       "    <tr>\n",
       "      <th>Elder_Low_Non-Married</th>\n",
       "      <td>11.319335</td>\n",
       "      <td>0.0</td>\n",
       "      <td>30.0</td>\n",
       "    </tr>\n",
       "    <tr>\n",
       "      <th>Elder_Mid_Married</th>\n",
       "      <td>10.810763</td>\n",
       "      <td>0.0</td>\n",
       "      <td>30.0</td>\n",
       "    </tr>\n",
       "    <tr>\n",
       "      <th>Elder_Mid_Non-Married</th>\n",
       "      <td>10.654395</td>\n",
       "      <td>0.0</td>\n",
       "      <td>30.0</td>\n",
       "    </tr>\n",
       "    <tr>\n",
       "      <th>Middle_High_Married</th>\n",
       "      <td>10.845658</td>\n",
       "      <td>0.0</td>\n",
       "      <td>30.0</td>\n",
       "    </tr>\n",
       "    <tr>\n",
       "      <th>Middle_High_Non-Married</th>\n",
       "      <td>10.659762</td>\n",
       "      <td>0.0</td>\n",
       "      <td>30.0</td>\n",
       "    </tr>\n",
       "    <tr>\n",
       "      <th>Middle_Low_Married</th>\n",
       "      <td>10.977293</td>\n",
       "      <td>0.0</td>\n",
       "      <td>30.0</td>\n",
       "    </tr>\n",
       "    <tr>\n",
       "      <th>Middle_Low_Non-Married</th>\n",
       "      <td>10.885662</td>\n",
       "      <td>0.0</td>\n",
       "      <td>30.0</td>\n",
       "    </tr>\n",
       "    <tr>\n",
       "      <th>Middle_Mid_Married</th>\n",
       "      <td>10.735963</td>\n",
       "      <td>0.0</td>\n",
       "      <td>30.0</td>\n",
       "    </tr>\n",
       "    <tr>\n",
       "      <th>Middle_Mid_Non-Married</th>\n",
       "      <td>10.755575</td>\n",
       "      <td>0.0</td>\n",
       "      <td>30.0</td>\n",
       "    </tr>\n",
       "    <tr>\n",
       "      <th>Young_High_Married</th>\n",
       "      <td>10.264941</td>\n",
       "      <td>0.0</td>\n",
       "      <td>30.0</td>\n",
       "    </tr>\n",
       "    <tr>\n",
       "      <th>Young_High_Non-Married</th>\n",
       "      <td>9.730484</td>\n",
       "      <td>0.0</td>\n",
       "      <td>30.0</td>\n",
       "    </tr>\n",
       "    <tr>\n",
       "      <th>Young_Low_Married</th>\n",
       "      <td>10.903348</td>\n",
       "      <td>0.0</td>\n",
       "      <td>30.0</td>\n",
       "    </tr>\n",
       "    <tr>\n",
       "      <th>Young_Low_Non-Married</th>\n",
       "      <td>10.958390</td>\n",
       "      <td>0.0</td>\n",
       "      <td>30.0</td>\n",
       "    </tr>\n",
       "    <tr>\n",
       "      <th>Young_Mid_Married</th>\n",
       "      <td>10.831179</td>\n",
       "      <td>0.0</td>\n",
       "      <td>30.0</td>\n",
       "    </tr>\n",
       "    <tr>\n",
       "      <th>Young_Mid_Non-Married</th>\n",
       "      <td>10.746029</td>\n",
       "      <td>0.0</td>\n",
       "      <td>30.0</td>\n",
       "    </tr>\n",
       "  </tbody>\n",
       "</table>\n",
       "</div>"
      ],
      "text/plain": [
       "                        days_since_prior_order           \n",
       "                                          mean  min   max\n",
       "customer_profile                                         \n",
       "Elder_High_Married                   10.707685  0.0  30.0\n",
       "Elder_High_Non-Married               10.738605  0.0  30.0\n",
       "Elder_Low_Married                    11.028144  0.0  30.0\n",
       "Elder_Low_Non-Married                11.319335  0.0  30.0\n",
       "Elder_Mid_Married                    10.810763  0.0  30.0\n",
       "Elder_Mid_Non-Married                10.654395  0.0  30.0\n",
       "Middle_High_Married                  10.845658  0.0  30.0\n",
       "Middle_High_Non-Married              10.659762  0.0  30.0\n",
       "Middle_Low_Married                   10.977293  0.0  30.0\n",
       "Middle_Low_Non-Married               10.885662  0.0  30.0\n",
       "Middle_Mid_Married                   10.735963  0.0  30.0\n",
       "Middle_Mid_Non-Married               10.755575  0.0  30.0\n",
       "Young_High_Married                   10.264941  0.0  30.0\n",
       "Young_High_Non-Married                9.730484  0.0  30.0\n",
       "Young_Low_Married                    10.903348  0.0  30.0\n",
       "Young_Low_Non-Married                10.958390  0.0  30.0\n",
       "Young_Mid_Married                    10.831179  0.0  30.0\n",
       "Young_Mid_Non-Married                10.746029  0.0  30.0"
      ]
     },
     "execution_count": 48,
     "metadata": {},
     "output_type": "execute_result"
    }
   ],
   "source": [
    "frequency_profile"
   ]
  },
  {
   "cell_type": "code",
   "execution_count": 49,
   "id": "63794870",
   "metadata": {},
   "outputs": [],
   "source": [
    "frequency_profile.to_clipboard()"
   ]
  },
  {
   "cell_type": "markdown",
   "id": "90d4a59c",
   "metadata": {},
   "source": [
    "# findings   \n",
    "\n",
    "    [image.png](attachment:image.png)\n",
    "    - Young, high income, non-married customers visit most often by every 9.33 days.\n",
    "    - Overall, the difference of frequency by customer profile is at most 1 day. \n",
    "   "
   ]
  },
  {
   "cell_type": "markdown",
   "id": "fda5f711",
   "metadata": {},
   "source": [
    "### sum, max, mean, min of expenditure"
   ]
  },
  {
   "cell_type": "code",
   "execution_count": 50,
   "id": "24600079",
   "metadata": {},
   "outputs": [],
   "source": [
    "expend_profile = df_include.groupby('customer_profile').agg({'prices':['sum', 'mean', 'min', 'max']})"
   ]
  },
  {
   "cell_type": "code",
   "execution_count": 51,
   "id": "0b30948f",
   "metadata": {},
   "outputs": [
    {
     "data": {
      "text/html": [
       "<div>\n",
       "<style scoped>\n",
       "    .dataframe tbody tr th:only-of-type {\n",
       "        vertical-align: middle;\n",
       "    }\n",
       "\n",
       "    .dataframe tbody tr th {\n",
       "        vertical-align: top;\n",
       "    }\n",
       "\n",
       "    .dataframe thead tr th {\n",
       "        text-align: left;\n",
       "    }\n",
       "\n",
       "    .dataframe thead tr:last-of-type th {\n",
       "        text-align: right;\n",
       "    }\n",
       "</style>\n",
       "<table border=\"1\" class=\"dataframe\">\n",
       "  <thead>\n",
       "    <tr>\n",
       "      <th></th>\n",
       "      <th colspan=\"4\" halign=\"left\">prices</th>\n",
       "    </tr>\n",
       "    <tr>\n",
       "      <th></th>\n",
       "      <th>sum</th>\n",
       "      <th>mean</th>\n",
       "      <th>min</th>\n",
       "      <th>max</th>\n",
       "    </tr>\n",
       "    <tr>\n",
       "      <th>customer_profile</th>\n",
       "      <th></th>\n",
       "      <th></th>\n",
       "      <th></th>\n",
       "      <th></th>\n",
       "    </tr>\n",
       "  </thead>\n",
       "  <tbody>\n",
       "    <tr>\n",
       "      <th>Elder_High_Married</th>\n",
       "      <td>40406266.3</td>\n",
       "      <td>17.071099</td>\n",
       "      <td>1.0</td>\n",
       "      <td>99999.0</td>\n",
       "    </tr>\n",
       "    <tr>\n",
       "      <th>Elder_High_Non-Married</th>\n",
       "      <td>13756894.6</td>\n",
       "      <td>17.852256</td>\n",
       "      <td>1.0</td>\n",
       "      <td>99999.0</td>\n",
       "    </tr>\n",
       "    <tr>\n",
       "      <th>Elder_Low_Married</th>\n",
       "      <td>5388175.0</td>\n",
       "      <td>6.708252</td>\n",
       "      <td>1.0</td>\n",
       "      <td>25.0</td>\n",
       "    </tr>\n",
       "    <tr>\n",
       "      <th>Elder_Low_Non-Married</th>\n",
       "      <td>1686413.7</td>\n",
       "      <td>6.721592</td>\n",
       "      <td>1.0</td>\n",
       "      <td>25.0</td>\n",
       "    </tr>\n",
       "    <tr>\n",
       "      <th>Elder_Mid_Married</th>\n",
       "      <td>26285987.1</td>\n",
       "      <td>8.751989</td>\n",
       "      <td>1.0</td>\n",
       "      <td>99999.0</td>\n",
       "    </tr>\n",
       "    <tr>\n",
       "      <th>Elder_Mid_Non-Married</th>\n",
       "      <td>8837571.5</td>\n",
       "      <td>8.833455</td>\n",
       "      <td>1.0</td>\n",
       "      <td>99999.0</td>\n",
       "    </tr>\n",
       "    <tr>\n",
       "      <th>Middle_High_Married</th>\n",
       "      <td>69437912.3</td>\n",
       "      <td>20.623522</td>\n",
       "      <td>1.0</td>\n",
       "      <td>99999.0</td>\n",
       "    </tr>\n",
       "    <tr>\n",
       "      <th>Middle_High_Non-Married</th>\n",
       "      <td>22550944.5</td>\n",
       "      <td>19.529429</td>\n",
       "      <td>1.0</td>\n",
       "      <td>99999.0</td>\n",
       "    </tr>\n",
       "    <tr>\n",
       "      <th>Middle_Low_Married</th>\n",
       "      <td>17838560.4</td>\n",
       "      <td>7.198407</td>\n",
       "      <td>1.0</td>\n",
       "      <td>14900.0</td>\n",
       "    </tr>\n",
       "    <tr>\n",
       "      <th>Middle_Low_Non-Married</th>\n",
       "      <td>5974564.6</td>\n",
       "      <td>7.194630</td>\n",
       "      <td>1.0</td>\n",
       "      <td>14900.0</td>\n",
       "    </tr>\n",
       "    <tr>\n",
       "      <th>Middle_Mid_Married</th>\n",
       "      <td>51170046.3</td>\n",
       "      <td>8.917959</td>\n",
       "      <td>1.0</td>\n",
       "      <td>99999.0</td>\n",
       "    </tr>\n",
       "    <tr>\n",
       "      <th>Middle_Mid_Non-Married</th>\n",
       "      <td>18313419.7</td>\n",
       "      <td>9.558995</td>\n",
       "      <td>1.0</td>\n",
       "      <td>99999.0</td>\n",
       "    </tr>\n",
       "    <tr>\n",
       "      <th>Young_High_Married</th>\n",
       "      <td>13221051.7</td>\n",
       "      <td>292.371776</td>\n",
       "      <td>1.0</td>\n",
       "      <td>99999.0</td>\n",
       "    </tr>\n",
       "    <tr>\n",
       "      <th>Young_High_Non-Married</th>\n",
       "      <td>10784014.5</td>\n",
       "      <td>292.566861</td>\n",
       "      <td>1.0</td>\n",
       "      <td>99999.0</td>\n",
       "    </tr>\n",
       "    <tr>\n",
       "      <th>Young_Low_Married</th>\n",
       "      <td>14205176.8</td>\n",
       "      <td>7.615218</td>\n",
       "      <td>1.0</td>\n",
       "      <td>14900.0</td>\n",
       "    </tr>\n",
       "    <tr>\n",
       "      <th>Young_Low_Non-Married</th>\n",
       "      <td>11494175.9</td>\n",
       "      <td>7.597039</td>\n",
       "      <td>1.0</td>\n",
       "      <td>25.0</td>\n",
       "    </tr>\n",
       "    <tr>\n",
       "      <th>Young_Mid_Married</th>\n",
       "      <td>21762188.9</td>\n",
       "      <td>10.479625</td>\n",
       "      <td>1.0</td>\n",
       "      <td>99999.0</td>\n",
       "    </tr>\n",
       "    <tr>\n",
       "      <th>Young_Mid_Non-Married</th>\n",
       "      <td>16402917.8</td>\n",
       "      <td>9.383353</td>\n",
       "      <td>1.0</td>\n",
       "      <td>99999.0</td>\n",
       "    </tr>\n",
       "  </tbody>\n",
       "</table>\n",
       "</div>"
      ],
      "text/plain": [
       "                             prices                          \n",
       "                                sum        mean  min      max\n",
       "customer_profile                                             \n",
       "Elder_High_Married       40406266.3   17.071099  1.0  99999.0\n",
       "Elder_High_Non-Married   13756894.6   17.852256  1.0  99999.0\n",
       "Elder_Low_Married         5388175.0    6.708252  1.0     25.0\n",
       "Elder_Low_Non-Married     1686413.7    6.721592  1.0     25.0\n",
       "Elder_Mid_Married        26285987.1    8.751989  1.0  99999.0\n",
       "Elder_Mid_Non-Married     8837571.5    8.833455  1.0  99999.0\n",
       "Middle_High_Married      69437912.3   20.623522  1.0  99999.0\n",
       "Middle_High_Non-Married  22550944.5   19.529429  1.0  99999.0\n",
       "Middle_Low_Married       17838560.4    7.198407  1.0  14900.0\n",
       "Middle_Low_Non-Married    5974564.6    7.194630  1.0  14900.0\n",
       "Middle_Mid_Married       51170046.3    8.917959  1.0  99999.0\n",
       "Middle_Mid_Non-Married   18313419.7    9.558995  1.0  99999.0\n",
       "Young_High_Married       13221051.7  292.371776  1.0  99999.0\n",
       "Young_High_Non-Married   10784014.5  292.566861  1.0  99999.0\n",
       "Young_Low_Married        14205176.8    7.615218  1.0  14900.0\n",
       "Young_Low_Non-Married    11494175.9    7.597039  1.0     25.0\n",
       "Young_Mid_Married        21762188.9   10.479625  1.0  99999.0\n",
       "Young_Mid_Non-Married    16402917.8    9.383353  1.0  99999.0"
      ]
     },
     "execution_count": 51,
     "metadata": {},
     "output_type": "execute_result"
    }
   ],
   "source": [
    "expend_profile"
   ]
  },
  {
   "cell_type": "code",
   "execution_count": 52,
   "id": "808e3833",
   "metadata": {},
   "outputs": [],
   "source": [
    "expend_profile.to_clipboard()"
   ]
  },
  {
   "cell_type": "markdown",
   "id": "669a71b9",
   "metadata": {},
   "source": [
    "## findings\n",
    "\n",
    "   \n",
    "- Middle age mid-income/high_income non-married cutomer spend most on average, and Elder, Low-income customers are least.\n",
    "- except other conditions, High income customers spend 10.37 on average, while Low-income customers spend 7.16\n",
    "- The number of married customer takes 70%, but the average expenditure is almost same as non-married."
   ]
  },
  {
   "cell_type": "markdown",
   "id": "a1f462ad",
   "metadata": {},
   "source": [
    "# 8. Customer profile with regions and department"
   ]
  },
  {
   "cell_type": "code",
   "execution_count": 53,
   "id": "162cc755",
   "metadata": {},
   "outputs": [],
   "source": [
    "region_profile = df_include[['Region', 'Age_category', 'income_category', 'Family_category','customer_profile']]"
   ]
  },
  {
   "cell_type": "code",
   "execution_count": 54,
   "id": "a556923b",
   "metadata": {},
   "outputs": [
    {
     "data": {
      "text/html": [
       "<div>\n",
       "<style scoped>\n",
       "    .dataframe tbody tr th:only-of-type {\n",
       "        vertical-align: middle;\n",
       "    }\n",
       "\n",
       "    .dataframe tbody tr th {\n",
       "        vertical-align: top;\n",
       "    }\n",
       "\n",
       "    .dataframe thead th {\n",
       "        text-align: right;\n",
       "    }\n",
       "</style>\n",
       "<table border=\"1\" class=\"dataframe\">\n",
       "  <thead>\n",
       "    <tr style=\"text-align: right;\">\n",
       "      <th></th>\n",
       "      <th>Region</th>\n",
       "      <th>Age_category</th>\n",
       "      <th>income_category</th>\n",
       "      <th>Family_category</th>\n",
       "      <th>customer_profile</th>\n",
       "    </tr>\n",
       "  </thead>\n",
       "  <tbody>\n",
       "    <tr>\n",
       "      <th>0</th>\n",
       "      <td>Midwest</td>\n",
       "      <td>13</td>\n",
       "      <td>21</td>\n",
       "      <td>31</td>\n",
       "      <td>Elder_Low_Married</td>\n",
       "    </tr>\n",
       "    <tr>\n",
       "      <th>1</th>\n",
       "      <td>Midwest</td>\n",
       "      <td>13</td>\n",
       "      <td>21</td>\n",
       "      <td>31</td>\n",
       "      <td>Elder_Low_Married</td>\n",
       "    </tr>\n",
       "    <tr>\n",
       "      <th>2</th>\n",
       "      <td>Midwest</td>\n",
       "      <td>13</td>\n",
       "      <td>21</td>\n",
       "      <td>31</td>\n",
       "      <td>Elder_Low_Married</td>\n",
       "    </tr>\n",
       "    <tr>\n",
       "      <th>3</th>\n",
       "      <td>Midwest</td>\n",
       "      <td>13</td>\n",
       "      <td>21</td>\n",
       "      <td>31</td>\n",
       "      <td>Elder_Low_Married</td>\n",
       "    </tr>\n",
       "    <tr>\n",
       "      <th>4</th>\n",
       "      <td>Midwest</td>\n",
       "      <td>13</td>\n",
       "      <td>21</td>\n",
       "      <td>31</td>\n",
       "      <td>Elder_Low_Married</td>\n",
       "    </tr>\n",
       "    <tr>\n",
       "      <th>...</th>\n",
       "      <td>...</td>\n",
       "      <td>...</td>\n",
       "      <td>...</td>\n",
       "      <td>...</td>\n",
       "      <td>...</td>\n",
       "    </tr>\n",
       "    <tr>\n",
       "      <th>32404843</th>\n",
       "      <td>Northeast</td>\n",
       "      <td>13</td>\n",
       "      <td>21</td>\n",
       "      <td>31</td>\n",
       "      <td>Elder_Low_Married</td>\n",
       "    </tr>\n",
       "    <tr>\n",
       "      <th>32404844</th>\n",
       "      <td>Northeast</td>\n",
       "      <td>13</td>\n",
       "      <td>21</td>\n",
       "      <td>31</td>\n",
       "      <td>Elder_Low_Married</td>\n",
       "    </tr>\n",
       "    <tr>\n",
       "      <th>32404845</th>\n",
       "      <td>Northeast</td>\n",
       "      <td>13</td>\n",
       "      <td>21</td>\n",
       "      <td>31</td>\n",
       "      <td>Elder_Low_Married</td>\n",
       "    </tr>\n",
       "    <tr>\n",
       "      <th>32404846</th>\n",
       "      <td>Northeast</td>\n",
       "      <td>13</td>\n",
       "      <td>21</td>\n",
       "      <td>31</td>\n",
       "      <td>Elder_Low_Married</td>\n",
       "    </tr>\n",
       "    <tr>\n",
       "      <th>32404847</th>\n",
       "      <td>Northeast</td>\n",
       "      <td>13</td>\n",
       "      <td>21</td>\n",
       "      <td>31</td>\n",
       "      <td>Elder_Low_Married</td>\n",
       "    </tr>\n",
       "  </tbody>\n",
       "</table>\n",
       "<p>30964564 rows × 5 columns</p>\n",
       "</div>"
      ],
      "text/plain": [
       "             Region  Age_category  income_category  Family_category  \\\n",
       "0           Midwest            13               21               31   \n",
       "1           Midwest            13               21               31   \n",
       "2           Midwest            13               21               31   \n",
       "3           Midwest            13               21               31   \n",
       "4           Midwest            13               21               31   \n",
       "...             ...           ...              ...              ...   \n",
       "32404843  Northeast            13               21               31   \n",
       "32404844  Northeast            13               21               31   \n",
       "32404845  Northeast            13               21               31   \n",
       "32404846  Northeast            13               21               31   \n",
       "32404847  Northeast            13               21               31   \n",
       "\n",
       "           customer_profile  \n",
       "0         Elder_Low_Married  \n",
       "1         Elder_Low_Married  \n",
       "2         Elder_Low_Married  \n",
       "3         Elder_Low_Married  \n",
       "4         Elder_Low_Married  \n",
       "...                     ...  \n",
       "32404843  Elder_Low_Married  \n",
       "32404844  Elder_Low_Married  \n",
       "32404845  Elder_Low_Married  \n",
       "32404846  Elder_Low_Married  \n",
       "32404847  Elder_Low_Married  \n",
       "\n",
       "[30964564 rows x 5 columns]"
      ]
     },
     "execution_count": 54,
     "metadata": {},
     "output_type": "execute_result"
    }
   ],
   "source": [
    "region_profile"
   ]
  },
  {
   "cell_type": "code",
   "execution_count": 55,
   "id": "cff6c381",
   "metadata": {},
   "outputs": [],
   "source": [
    "# Create a DataFrame with proportions\n",
    "\n",
    "df_proportions = region_profile.groupby(['Region', 'customer_profile']).size().unstack().div(region_profile.groupby('Region').size(), axis=0)"
   ]
  },
  {
   "cell_type": "code",
   "execution_count": 56,
   "id": "aab6fb1e",
   "metadata": {},
   "outputs": [],
   "source": [
    "re_profile = region_profile.groupby('Region')['customer_profile'].value_counts()"
   ]
  },
  {
   "cell_type": "code",
   "execution_count": 57,
   "id": "0579256f",
   "metadata": {},
   "outputs": [
    {
     "data": {
      "text/plain": [
       "Region   customer_profile      \n",
       "Midwest  Middle_Mid_Married        1327759\n",
       "         Middle_High_Married        816907\n",
       "         Elder_Mid_Married          701759\n",
       "         Middle_Low_Married         582255\n",
       "         Elder_High_Married         553685\n",
       "                                    ...   \n",
       "West     Elder_Low_Married          212475\n",
       "         Elder_High_Non-Married     202719\n",
       "         Elder_Low_Non-Married       63570\n",
       "         Young_High_Married          12712\n",
       "         Young_High_Non-Married       7165\n",
       "Name: count, Length: 72, dtype: int64"
      ]
     },
     "execution_count": 57,
     "metadata": {},
     "output_type": "execute_result"
    }
   ],
   "source": [
    "re_profile"
   ]
  },
  {
   "cell_type": "code",
   "execution_count": 58,
   "id": "f503af0d",
   "metadata": {},
   "outputs": [],
   "source": [
    "re_Age_percentage_table = region_profile.groupby('Region')['customer_profile'].value_counts(normalize=True).unstack() * 100"
   ]
  },
  {
   "cell_type": "code",
   "execution_count": 59,
   "id": "29b81ab6",
   "metadata": {},
   "outputs": [
    {
     "data": {
      "text/html": [
       "<div>\n",
       "<style scoped>\n",
       "    .dataframe tbody tr th:only-of-type {\n",
       "        vertical-align: middle;\n",
       "    }\n",
       "\n",
       "    .dataframe tbody tr th {\n",
       "        vertical-align: top;\n",
       "    }\n",
       "\n",
       "    .dataframe thead th {\n",
       "        text-align: right;\n",
       "    }\n",
       "</style>\n",
       "<table border=\"1\" class=\"dataframe\">\n",
       "  <thead>\n",
       "    <tr style=\"text-align: right;\">\n",
       "      <th>customer_profile</th>\n",
       "      <th>Elder_High_Married</th>\n",
       "      <th>Elder_High_Non-Married</th>\n",
       "      <th>Elder_Low_Married</th>\n",
       "      <th>Elder_Low_Non-Married</th>\n",
       "      <th>Elder_Mid_Married</th>\n",
       "      <th>Elder_Mid_Non-Married</th>\n",
       "      <th>Middle_High_Married</th>\n",
       "      <th>Middle_High_Non-Married</th>\n",
       "      <th>Middle_Low_Married</th>\n",
       "      <th>Middle_Low_Non-Married</th>\n",
       "      <th>Middle_Mid_Married</th>\n",
       "      <th>Middle_Mid_Non-Married</th>\n",
       "      <th>Young_High_Married</th>\n",
       "      <th>Young_High_Non-Married</th>\n",
       "      <th>Young_Low_Married</th>\n",
       "      <th>Young_Low_Non-Married</th>\n",
       "      <th>Young_Mid_Married</th>\n",
       "      <th>Young_Mid_Non-Married</th>\n",
       "    </tr>\n",
       "    <tr>\n",
       "      <th>Region</th>\n",
       "      <th></th>\n",
       "      <th></th>\n",
       "      <th></th>\n",
       "      <th></th>\n",
       "      <th></th>\n",
       "      <th></th>\n",
       "      <th></th>\n",
       "      <th></th>\n",
       "      <th></th>\n",
       "      <th></th>\n",
       "      <th></th>\n",
       "      <th></th>\n",
       "      <th></th>\n",
       "      <th></th>\n",
       "      <th></th>\n",
       "      <th></th>\n",
       "      <th></th>\n",
       "      <th></th>\n",
       "    </tr>\n",
       "  </thead>\n",
       "  <tbody>\n",
       "    <tr>\n",
       "      <th>Midwest</th>\n",
       "      <td>7.624926</td>\n",
       "      <td>2.369947</td>\n",
       "      <td>2.458455</td>\n",
       "      <td>0.788637</td>\n",
       "      <td>9.664088</td>\n",
       "      <td>3.315012</td>\n",
       "      <td>11.249818</td>\n",
       "      <td>3.891173</td>\n",
       "      <td>8.018370</td>\n",
       "      <td>2.684496</td>\n",
       "      <td>18.284881</td>\n",
       "      <td>6.432530</td>\n",
       "      <td>0.118309</td>\n",
       "      <td>0.111065</td>\n",
       "      <td>6.108837</td>\n",
       "      <td>4.600942</td>\n",
       "      <td>6.530196</td>\n",
       "      <td>5.748320</td>\n",
       "    </tr>\n",
       "    <tr>\n",
       "      <th>Northeast</th>\n",
       "      <td>7.809325</td>\n",
       "      <td>2.674628</td>\n",
       "      <td>2.657408</td>\n",
       "      <td>0.913978</td>\n",
       "      <td>9.771725</td>\n",
       "      <td>3.343889</td>\n",
       "      <td>10.987019</td>\n",
       "      <td>3.390497</td>\n",
       "      <td>8.104969</td>\n",
       "      <td>2.541684</td>\n",
       "      <td>18.405947</td>\n",
       "      <td>5.789977</td>\n",
       "      <td>0.151518</td>\n",
       "      <td>0.109009</td>\n",
       "      <td>5.847638</td>\n",
       "      <td>4.950843</td>\n",
       "      <td>6.785862</td>\n",
       "      <td>5.764083</td>\n",
       "    </tr>\n",
       "    <tr>\n",
       "      <th>South</th>\n",
       "      <td>7.643608</td>\n",
       "      <td>2.420916</td>\n",
       "      <td>2.589442</td>\n",
       "      <td>0.776946</td>\n",
       "      <td>9.655383</td>\n",
       "      <td>3.181036</td>\n",
       "      <td>10.543743</td>\n",
       "      <td>3.811509</td>\n",
       "      <td>8.062368</td>\n",
       "      <td>2.744246</td>\n",
       "      <td>18.740073</td>\n",
       "      <td>6.076147</td>\n",
       "      <td>0.151652</td>\n",
       "      <td>0.152001</td>\n",
       "      <td>5.975150</td>\n",
       "      <td>5.001543</td>\n",
       "      <td>6.696302</td>\n",
       "      <td>5.777936</td>\n",
       "    </tr>\n",
       "    <tr>\n",
       "      <th>West</th>\n",
       "      <td>7.548125</td>\n",
       "      <td>2.557250</td>\n",
       "      <td>2.680319</td>\n",
       "      <td>0.801920</td>\n",
       "      <td>9.739812</td>\n",
       "      <td>3.141225</td>\n",
       "      <td>10.879403</td>\n",
       "      <td>3.707072</td>\n",
       "      <td>7.841809</td>\n",
       "      <td>2.694852</td>\n",
       "      <td>18.568460</td>\n",
       "      <td>6.380642</td>\n",
       "      <td>0.160359</td>\n",
       "      <td>0.090385</td>\n",
       "      <td>6.132182</td>\n",
       "      <td>4.952791</td>\n",
       "      <td>6.826309</td>\n",
       "      <td>5.297086</td>\n",
       "    </tr>\n",
       "  </tbody>\n",
       "</table>\n",
       "</div>"
      ],
      "text/plain": [
       "customer_profile  Elder_High_Married  Elder_High_Non-Married  \\\n",
       "Region                                                         \n",
       "Midwest                     7.624926                2.369947   \n",
       "Northeast                   7.809325                2.674628   \n",
       "South                       7.643608                2.420916   \n",
       "West                        7.548125                2.557250   \n",
       "\n",
       "customer_profile  Elder_Low_Married  Elder_Low_Non-Married  Elder_Mid_Married  \\\n",
       "Region                                                                          \n",
       "Midwest                    2.458455               0.788637           9.664088   \n",
       "Northeast                  2.657408               0.913978           9.771725   \n",
       "South                      2.589442               0.776946           9.655383   \n",
       "West                       2.680319               0.801920           9.739812   \n",
       "\n",
       "customer_profile  Elder_Mid_Non-Married  Middle_High_Married  \\\n",
       "Region                                                         \n",
       "Midwest                        3.315012            11.249818   \n",
       "Northeast                      3.343889            10.987019   \n",
       "South                          3.181036            10.543743   \n",
       "West                           3.141225            10.879403   \n",
       "\n",
       "customer_profile  Middle_High_Non-Married  Middle_Low_Married  \\\n",
       "Region                                                          \n",
       "Midwest                          3.891173            8.018370   \n",
       "Northeast                        3.390497            8.104969   \n",
       "South                            3.811509            8.062368   \n",
       "West                             3.707072            7.841809   \n",
       "\n",
       "customer_profile  Middle_Low_Non-Married  Middle_Mid_Married  \\\n",
       "Region                                                         \n",
       "Midwest                         2.684496           18.284881   \n",
       "Northeast                       2.541684           18.405947   \n",
       "South                           2.744246           18.740073   \n",
       "West                            2.694852           18.568460   \n",
       "\n",
       "customer_profile  Middle_Mid_Non-Married  Young_High_Married  \\\n",
       "Region                                                         \n",
       "Midwest                         6.432530            0.118309   \n",
       "Northeast                       5.789977            0.151518   \n",
       "South                           6.076147            0.151652   \n",
       "West                            6.380642            0.160359   \n",
       "\n",
       "customer_profile  Young_High_Non-Married  Young_Low_Married  \\\n",
       "Region                                                        \n",
       "Midwest                         0.111065           6.108837   \n",
       "Northeast                       0.109009           5.847638   \n",
       "South                           0.152001           5.975150   \n",
       "West                            0.090385           6.132182   \n",
       "\n",
       "customer_profile  Young_Low_Non-Married  Young_Mid_Married  \\\n",
       "Region                                                       \n",
       "Midwest                        4.600942           6.530196   \n",
       "Northeast                      4.950843           6.785862   \n",
       "South                          5.001543           6.696302   \n",
       "West                           4.952791           6.826309   \n",
       "\n",
       "customer_profile  Young_Mid_Non-Married  \n",
       "Region                                   \n",
       "Midwest                        5.748320  \n",
       "Northeast                      5.764083  \n",
       "South                          5.777936  \n",
       "West                           5.297086  "
      ]
     },
     "execution_count": 59,
     "metadata": {},
     "output_type": "execute_result"
    }
   ],
   "source": [
    "re_Age_percentage_table"
   ]
  },
  {
   "cell_type": "code",
   "execution_count": 60,
   "id": "4e7246cb",
   "metadata": {},
   "outputs": [
    {
     "name": "stderr",
     "output_type": "stream",
     "text": [
      "C:\\Users\\rekha\\anaconda3\\Lib\\site-packages\\seaborn\\_oldcore.py:1119: FutureWarning: use_inf_as_na option is deprecated and will be removed in a future version. Convert inf values to NaN before operating instead.\n",
      "  with pd.option_context('mode.use_inf_as_na', True):\n",
      "C:\\Users\\rekha\\anaconda3\\Lib\\site-packages\\seaborn\\_oldcore.py:1119: FutureWarning: use_inf_as_na option is deprecated and will be removed in a future version. Convert inf values to NaN before operating instead.\n",
      "  with pd.option_context('mode.use_inf_as_na', True):\n"
     ]
    },
    {
     "data": {
      "image/png": "[encoded data removed]",
      "text/plain": [
       "<Figure size 640x480 with 1 Axes>"
      ]
     },
     "metadata": {},
     "output_type": "display_data"
    }
   ],
   "source": [
    "Regionline = sns.lineplot(data = re_profile, x = 'Region',y = 'customer_profile')"
   ]
  },
  {
   "cell_type": "markdown",
   "id": "aabbb83b",
   "metadata": {},
   "source": [
    "#### Findings\n",
    "\n",
    "- As we can see from the graph, the distribution of cutomer profile in each region is almost same. We cannot find any significant difference. "
   ]
  },
  {
   "cell_type": "code",
   "execution_count": 62,
   "id": "dc2833d6",
   "metadata": {},
   "outputs": [],
   "source": [
    "profile_departments =df_include[['order_id', 'user_id', 'department_id', 'prices', 'customer_profile']]"
   ]
  },
  {
   "cell_type": "code",
   "execution_count": 63,
   "id": "ef4e1649",
   "metadata": {},
   "outputs": [
    {
     "data": {
      "text/html": [
       "<div>\n",
       "<style scoped>\n",
       "    .dataframe tbody tr th:only-of-type {\n",
       "        vertical-align: middle;\n",
       "    }\n",
       "\n",
       "    .dataframe tbody tr th {\n",
       "        vertical-align: top;\n",
       "    }\n",
       "\n",
       "    .dataframe thead th {\n",
       "        text-align: right;\n",
       "    }\n",
       "</style>\n",
       "<table border=\"1\" class=\"dataframe\">\n",
       "  <thead>\n",
       "    <tr style=\"text-align: right;\">\n",
       "      <th></th>\n",
       "      <th>order_id</th>\n",
       "      <th>user_id</th>\n",
       "      <th>department_id</th>\n",
       "      <th>prices</th>\n",
       "      <th>customer_profile</th>\n",
       "    </tr>\n",
       "  </thead>\n",
       "  <tbody>\n",
       "    <tr>\n",
       "      <th>0</th>\n",
       "      <td>3139998</td>\n",
       "      <td>138</td>\n",
       "      <td>19</td>\n",
       "      <td>5.8</td>\n",
       "      <td>Elder_Low_Married</td>\n",
       "    </tr>\n",
       "    <tr>\n",
       "      <th>1</th>\n",
       "      <td>1977647</td>\n",
       "      <td>138</td>\n",
       "      <td>19</td>\n",
       "      <td>5.8</td>\n",
       "      <td>Elder_Low_Married</td>\n",
       "    </tr>\n",
       "    <tr>\n",
       "      <th>2</th>\n",
       "      <td>3160996</td>\n",
       "      <td>138</td>\n",
       "      <td>12</td>\n",
       "      <td>20.0</td>\n",
       "      <td>Elder_Low_Married</td>\n",
       "    </tr>\n",
       "    <tr>\n",
       "      <th>3</th>\n",
       "      <td>2254091</td>\n",
       "      <td>138</td>\n",
       "      <td>12</td>\n",
       "      <td>20.0</td>\n",
       "      <td>Elder_Low_Married</td>\n",
       "    </tr>\n",
       "    <tr>\n",
       "      <th>4</th>\n",
       "      <td>505689</td>\n",
       "      <td>138</td>\n",
       "      <td>10</td>\n",
       "      <td>12.9</td>\n",
       "      <td>Elder_Low_Married</td>\n",
       "    </tr>\n",
       "    <tr>\n",
       "      <th>...</th>\n",
       "      <td>...</td>\n",
       "      <td>...</td>\n",
       "      <td>...</td>\n",
       "      <td>...</td>\n",
       "      <td>...</td>\n",
       "    </tr>\n",
       "    <tr>\n",
       "      <th>32404843</th>\n",
       "      <td>3310701</td>\n",
       "      <td>27382</td>\n",
       "      <td>16</td>\n",
       "      <td>1.8</td>\n",
       "      <td>Elder_Low_Married</td>\n",
       "    </tr>\n",
       "    <tr>\n",
       "      <th>32404844</th>\n",
       "      <td>527883</td>\n",
       "      <td>27382</td>\n",
       "      <td>16</td>\n",
       "      <td>1.8</td>\n",
       "      <td>Elder_Low_Married</td>\n",
       "    </tr>\n",
       "    <tr>\n",
       "      <th>32404845</th>\n",
       "      <td>685496</td>\n",
       "      <td>27382</td>\n",
       "      <td>16</td>\n",
       "      <td>1.8</td>\n",
       "      <td>Elder_Low_Married</td>\n",
       "    </tr>\n",
       "    <tr>\n",
       "      <th>32404846</th>\n",
       "      <td>1224680</td>\n",
       "      <td>27382</td>\n",
       "      <td>16</td>\n",
       "      <td>1.8</td>\n",
       "      <td>Elder_Low_Married</td>\n",
       "    </tr>\n",
       "    <tr>\n",
       "      <th>32404847</th>\n",
       "      <td>2223687</td>\n",
       "      <td>27382</td>\n",
       "      <td>16</td>\n",
       "      <td>1.8</td>\n",
       "      <td>Elder_Low_Married</td>\n",
       "    </tr>\n",
       "  </tbody>\n",
       "</table>\n",
       "<p>30964564 rows × 5 columns</p>\n",
       "</div>"
      ],
      "text/plain": [
       "          order_id  user_id  department_id  prices   customer_profile\n",
       "0          3139998      138             19     5.8  Elder_Low_Married\n",
       "1          1977647      138             19     5.8  Elder_Low_Married\n",
       "2          3160996      138             12    20.0  Elder_Low_Married\n",
       "3          2254091      138             12    20.0  Elder_Low_Married\n",
       "4           505689      138             10    12.9  Elder_Low_Married\n",
       "...            ...      ...            ...     ...                ...\n",
       "32404843   3310701    27382             16     1.8  Elder_Low_Married\n",
       "32404844    527883    27382             16     1.8  Elder_Low_Married\n",
       "32404845    685496    27382             16     1.8  Elder_Low_Married\n",
       "32404846   1224680    27382             16     1.8  Elder_Low_Married\n",
       "32404847   2223687    27382             16     1.8  Elder_Low_Married\n",
       "\n",
       "[30964564 rows x 5 columns]"
      ]
     },
     "execution_count": 63,
     "metadata": {},
     "output_type": "execute_result"
    }
   ],
   "source": [
    "profile_departments"
   ]
  },
  {
   "cell_type": "code",
   "execution_count": 64,
   "id": "c7e868a7",
   "metadata": {},
   "outputs": [
    {
     "name": "stderr",
     "output_type": "stream",
     "text": [
      "C:\\Users\\rekha\\anaconda3\\Lib\\site-packages\\seaborn\\_oldcore.py:1119: FutureWarning: use_inf_as_na option is deprecated and will be removed in a future version. Convert inf values to NaN before operating instead.\n",
      "  with pd.option_context('mode.use_inf_as_na', True):\n",
      "C:\\Users\\rekha\\anaconda3\\Lib\\site-packages\\seaborn\\_oldcore.py:1119: FutureWarning: use_inf_as_na option is deprecated and will be removed in a future version. Convert inf values to NaN before operating instead.\n",
      "  with pd.option_context('mode.use_inf_as_na', True):\n"
     ]
    },
    {
     "data": {
      "image/png": "[encoded data removed]",
      "text/plain": [
       "<Figure size 640x480 with 1 Axes>"
      ]
     },
     "metadata": {},
     "output_type": "display_data"
    }
   ],
   "source": [
    "profile_dept = sns.lineplot(data = profile_departments, x = 'department_id',y = 'prices')"
   ]
  },
  {
   "cell_type": "code",
   "execution_count": 65,
   "id": "a6dab311",
   "metadata": {},
   "outputs": [],
   "source": [
    "import matplotlib.pyplot as plt\n",
    "import os\n",
    "\n",
    "# Assuming profile_dept is the Axes object containing your plot\n",
    "# You first need to get the parent Figure object of the Axes object\n",
    "figure = profile_dept.get_figure()\n",
    "\n",
    "# Now you can call savefig() on the Figure object\n",
    "figure.savefig(os.path.join(path, '4. Analysis/Visualizations/sales_profile.png'))"
   ]
  },
  {
   "cell_type": "code",
   "execution_count": 66,
   "id": "9dd4b851",
   "metadata": {},
   "outputs": [
    {
     "data": {
      "text/plain": [
       "<Figure size 1200x800 with 0 Axes>"
      ]
     },
     "execution_count": 66,
     "metadata": {},
     "output_type": "execute_result"
    },
    {
     "data": {
      "text/plain": [
       "<Figure size 1200x800 with 0 Axes>"
      ]
     },
     "metadata": {},
     "output_type": "display_data"
    }
   ],
   "source": [
    "import matplotlib.pyplot as plt\n",
    "\n",
    "# Make sure this line is not indented beyond the starting of the block\n",
    "plt.figure(figsize=(12, 8))\n",
    "\n",
    "# Other code follows here\n",
    "# Ensure that it's consistently indented within the same block\n"
   ]
  },
  {
   "cell_type": "code",
   "execution_count": 67,
   "id": "bbe47ffd",
   "metadata": {},
   "outputs": [],
   "source": [
    "import matplotlib.pyplot as plt\n",
    "import os\n",
    "\n",
    "# Assuming profile_dept is the Axes object containing your plot\n",
    "# You first need to get the parent Figure object of the Axes object\n",
    "figure = profile_dept.get_figure()\n",
    "\n",
    "# Now you can call savefig() on the Figure object\n",
    "figure.savefig(os.path.join(path, '4. Analysis/Visualizations/sales_profile.png'))\n"
   ]
  },
  {
   "cell_type": "markdown",
   "id": "19ba1440",
   "metadata": {},
   "source": [
    "### findings\n",
    "- Depending on the customer profile, departmental pricing does not vary significantly."
   ]
  },
  {
   "cell_type": "code",
   "execution_count": 68,
   "id": "e83d8b9d",
   "metadata": {},
   "outputs": [
    {
     "data": {
      "text/plain": [
       "(30964564, 38)"
      ]
     },
     "execution_count": 68,
     "metadata": {},
     "output_type": "execute_result"
    }
   ],
   "source": [
    "df_include.shape"
   ]
  },
  {
   "cell_type": "code",
   "execution_count": 69,
   "id": "61e5564a",
   "metadata": {},
   "outputs": [],
   "source": [
    "Insta_filtered = df_include"
   ]
  },
  {
   "cell_type": "code",
   "execution_count": 70,
   "id": "4b6bb9d7",
   "metadata": {},
   "outputs": [
    {
     "data": {
      "text/plain": [
       "(30964564, 38)"
      ]
     },
     "execution_count": 70,
     "metadata": {},
     "output_type": "execute_result"
    }
   ],
   "source": [
    "Insta_filtered.shape"
   ]
  },
  {
   "cell_type": "code",
   "execution_count": 71,
   "id": "16b433a9",
   "metadata": {},
   "outputs": [
    {
     "data": {
      "text/plain": [
       "Index(['product_id', 'product_name', 'aisle_id', 'department_id', 'prices',\n",
       "       'order_id', 'user_id', 'order_number', 'orders_day_of_week',\n",
       "       'order_hour_of_day', 'days_since_prior_order', 'add_to_cart_order',\n",
       "       'reordered', '_merge', 'price_range_loc', 'Busiest_days',\n",
       "       'Busiest_period_of_day', 'max_order', 'loyalty_flag',\n",
       "       'mean_product_price', 'spending_flag', 'median_days_between_orders',\n",
       "       'frequency_flag', 'first_name', 'surname', 'Gender', 'State', 'Age',\n",
       "       'date_joined', 'dependant_no', 'family_status', 'income', 'Region',\n",
       "       'exclusion_flag', 'Age_category', 'income_category', 'Family_category',\n",
       "       'customer_profile'],\n",
       "      dtype='object')"
      ]
     },
     "execution_count": 71,
     "metadata": {},
     "output_type": "execute_result"
    }
   ],
   "source": [
    "Insta_filtered.columns"
   ]
  },
  {
   "cell_type": "code",
   "execution_count": 72,
   "id": "4adbf090",
   "metadata": {},
   "outputs": [],
   "source": [
    "Insta_filtered.to_pickle(os.path.join(path, '2. Data/Prepared Data/Insta_filtered.pkl'))"
   ]
  },
  {
   "cell_type": "code",
   "execution_count": null,
   "id": "edb9997c",
   "metadata": {},
   "outputs": [],
   "source": []
  }
 ],
 "metadata": {
  "kernelspec": {
   "display_name": "Python 3 (ipykernel)",
   "language": "python",
   "name": "python3"
  },
  "language_info": {
   "codemirror_mode": {
    "name": "ipython",
    "version": 3
   },
   "file_extension": ".py",
   "mimetype": "text/x-python",
   "name": "python",
   "nbconvert_exporter": "python",
   "pygments_lexer": "ipython3",
   "version": "3.11.5"
  }
 },
 "nbformat": 4,
 "nbformat_minor": 5
}
