{
 "cells": [
  {
   "cell_type": "markdown",
   "id": "458d2504",
   "metadata": {},
   "source": [
    "# 01. Importing libraries"
   ]
  },
  {
   "cell_type": "code",
   "execution_count": 1,
   "id": "fd15893e",
   "metadata": {},
   "outputs": [],
   "source": [
    "# Import libraries\n",
    "import pandas as pd\n",
    "import numpy as np\n",
    "import os"
   ]
  },
  {
   "cell_type": "markdown",
   "id": "0800b345",
   "metadata": {},
   "source": [
    "# 02. Python Data Types"
   ]
  },
  {
   "cell_type": "code",
   "execution_count": null,
   "id": "8edf3a28",
   "metadata": {},
   "outputs": [],
   "source": [
    "# code 3 different ways to reching result of 100 by adding or subtracting numeric values "
   ]
  },
  {
   "cell_type": "code",
   "execution_count": 7,
   "id": "30f92e8d",
   "metadata": {},
   "outputs": [],
   "source": [
    "x = 100"
   ]
  },
  {
   "cell_type": "code",
   "execution_count": 6,
   "id": "17fa74fc",
   "metadata": {},
   "outputs": [],
   "source": [
    "y = 200"
   ]
  },
  {
   "cell_type": "code",
   "execution_count": 8,
   "id": "9a1c73c2",
   "metadata": {},
   "outputs": [
    {
     "data": {
      "text/plain": [
       "100"
      ]
     },
     "execution_count": 8,
     "metadata": {},
     "output_type": "execute_result"
    }
   ],
   "source": [
    "x"
   ]
  },
  {
   "cell_type": "code",
   "execution_count": 9,
   "id": "c3f098c3",
   "metadata": {},
   "outputs": [
    {
     "name": "stdout",
     "output_type": "stream",
     "text": [
      "200\n"
     ]
    }
   ],
   "source": [
    "print(y)"
   ]
  },
  {
   "cell_type": "code",
   "execution_count": 12,
   "id": "e197c0d9",
   "metadata": {},
   "outputs": [
    {
     "data": {
      "text/plain": [
       "100"
      ]
     },
     "execution_count": 12,
     "metadata": {},
     "output_type": "execute_result"
    }
   ],
   "source": [
    "y - x"
   ]
  },
  {
   "cell_type": "code",
   "execution_count": 13,
   "id": "eadb55bd",
   "metadata": {},
   "outputs": [],
   "source": [
    "a = 25"
   ]
  },
  {
   "cell_type": "code",
   "execution_count": 14,
   "id": "4367138a",
   "metadata": {},
   "outputs": [],
   "source": [
    "b = 75"
   ]
  },
  {
   "cell_type": "code",
   "execution_count": 15,
   "id": "851a1de0",
   "metadata": {},
   "outputs": [
    {
     "data": {
      "text/plain": [
       "100"
      ]
     },
     "execution_count": 15,
     "metadata": {},
     "output_type": "execute_result"
    }
   ],
   "source": [
    "a + b"
   ]
  },
  {
   "cell_type": "code",
   "execution_count": 16,
   "id": "3ff46bf0",
   "metadata": {},
   "outputs": [],
   "source": [
    "c = 50"
   ]
  },
  {
   "cell_type": "code",
   "execution_count": 28,
   "id": "b5afdddd",
   "metadata": {},
   "outputs": [],
   "source": [
    "a = a + b"
   ]
  },
  {
   "cell_type": "code",
   "execution_count": 31,
   "id": "06e10ffe",
   "metadata": {},
   "outputs": [
    {
     "name": "stdout",
     "output_type": "stream",
     "text": [
      "100\n"
     ]
    }
   ],
   "source": [
    "print(a)"
   ]
  },
  {
   "cell_type": "code",
   "execution_count": 17,
   "id": "348af6f1",
   "metadata": {},
   "outputs": [
    {
     "data": {
      "text/plain": [
       "100"
      ]
     },
     "execution_count": 17,
     "metadata": {},
     "output_type": "execute_result"
    }
   ],
   "source": [
    "a + a + c"
   ]
  },
  {
   "cell_type": "code",
   "execution_count": 18,
   "id": "9e70f24b",
   "metadata": {},
   "outputs": [
    {
     "data": {
      "text/plain": [
       "int"
      ]
     },
     "execution_count": 18,
     "metadata": {},
     "output_type": "execute_result"
    }
   ],
   "source": [
    "type(a)"
   ]
  },
  {
   "cell_type": "code",
   "execution_count": 19,
   "id": "d01e5029",
   "metadata": {},
   "outputs": [
    {
     "data": {
      "text/plain": [
       "int"
      ]
     },
     "execution_count": 19,
     "metadata": {},
     "output_type": "execute_result"
    }
   ],
   "source": [
    "type(b)"
   ]
  },
  {
   "cell_type": "code",
   "execution_count": 20,
   "id": "f04f90fc",
   "metadata": {},
   "outputs": [],
   "source": [
    "# code 2 floating poit variables and divide them each other"
   ]
  },
  {
   "cell_type": "code",
   "execution_count": 21,
   "id": "4809cef6",
   "metadata": {},
   "outputs": [],
   "source": [
    "e = 18.985"
   ]
  },
  {
   "cell_type": "code",
   "execution_count": 22,
   "id": "4a607b17",
   "metadata": {},
   "outputs": [],
   "source": [
    "d = 5.9276"
   ]
  },
  {
   "cell_type": "code",
   "execution_count": 23,
   "id": "65207bd2",
   "metadata": {},
   "outputs": [
    {
     "data": {
      "text/plain": [
       "18.985"
      ]
     },
     "execution_count": 23,
     "metadata": {},
     "output_type": "execute_result"
    }
   ],
   "source": [
    "e"
   ]
  },
  {
   "cell_type": "code",
   "execution_count": 24,
   "id": "5ccd5cbe",
   "metadata": {},
   "outputs": [
    {
     "data": {
      "text/plain": [
       "float"
      ]
     },
     "execution_count": 24,
     "metadata": {},
     "output_type": "execute_result"
    }
   ],
   "source": [
    "type(e)"
   ]
  },
  {
   "cell_type": "code",
   "execution_count": 25,
   "id": "c4dcfe66",
   "metadata": {},
   "outputs": [
    {
     "data": {
      "text/plain": [
       "3.202813955057696"
      ]
     },
     "execution_count": 25,
     "metadata": {},
     "output_type": "execute_result"
    }
   ],
   "source": [
    "e / d"
   ]
  },
  {
   "cell_type": "code",
   "execution_count": 26,
   "id": "21af9ed5",
   "metadata": {},
   "outputs": [],
   "source": [
    "# construct a short word made of seperate strings"
   ]
  },
  {
   "cell_type": "code",
   "execution_count": 32,
   "id": "ffd7bf87",
   "metadata": {},
   "outputs": [],
   "source": [
    "a = 'Hello-'"
   ]
  },
  {
   "cell_type": "code",
   "execution_count": 34,
   "id": "8c49126e",
   "metadata": {},
   "outputs": [],
   "source": [
    "b = 'World'"
   ]
  },
  {
   "cell_type": "code",
   "execution_count": 35,
   "id": "0794adb1",
   "metadata": {},
   "outputs": [
    {
     "data": {
      "text/plain": [
       "'Hello-, World'"
      ]
     },
     "execution_count": 35,
     "metadata": {},
     "output_type": "execute_result"
    }
   ],
   "source": [
    "a + b"
   ]
  },
  {
   "cell_type": "code",
   "execution_count": 38,
   "id": "4c96e8b8",
   "metadata": {},
   "outputs": [
    {
     "data": {
      "text/plain": [
       "str"
      ]
     },
     "execution_count": 38,
     "metadata": {},
     "output_type": "execute_result"
    }
   ],
   "source": [
    "type(a)"
   ]
  },
  {
   "cell_type": "code",
   "execution_count": 39,
   "id": "f2ed206f",
   "metadata": {},
   "outputs": [],
   "source": [
    "# construct 2 short sentences made of seperate strings"
   ]
  },
  {
   "cell_type": "code",
   "execution_count": 45,
   "id": "7030110c",
   "metadata": {},
   "outputs": [],
   "source": [
    "a = 'what '"
   ]
  },
  {
   "cell_type": "code",
   "execution_count": 46,
   "id": "7096eff8",
   "metadata": {},
   "outputs": [],
   "source": [
    "b = 'are '"
   ]
  },
  {
   "cell_type": "code",
   "execution_count": 42,
   "id": "28b318a5",
   "metadata": {},
   "outputs": [],
   "source": [
    "c = 'you doing'"
   ]
  },
  {
   "cell_type": "code",
   "execution_count": 48,
   "id": "994377ec",
   "metadata": {},
   "outputs": [
    {
     "data": {
      "text/plain": [
       "'what are you doing'"
      ]
     },
     "execution_count": 48,
     "metadata": {},
     "output_type": "execute_result"
    }
   ],
   "source": [
    "a+b+c"
   ]
  },
  {
   "cell_type": "code",
   "execution_count": 49,
   "id": "3880bef0",
   "metadata": {},
   "outputs": [],
   "source": [
    "d = 'I am ' "
   ]
  },
  {
   "cell_type": "code",
   "execution_count": 53,
   "id": "093db59c",
   "metadata": {},
   "outputs": [],
   "source": [
    "e = 'learning '"
   ]
  },
  {
   "cell_type": "code",
   "execution_count": 51,
   "id": "fc7a240e",
   "metadata": {},
   "outputs": [],
   "source": [
    "f = 'Python'"
   ]
  },
  {
   "cell_type": "code",
   "execution_count": 54,
   "id": "c7468d7d",
   "metadata": {},
   "outputs": [
    {
     "data": {
      "text/plain": [
       "'I am learning Python'"
      ]
     },
     "execution_count": 54,
     "metadata": {},
     "output_type": "execute_result"
    }
   ],
   "source": [
    "d+e+f"
   ]
  },
  {
   "cell_type": "code",
   "execution_count": null,
   "id": "4683b770",
   "metadata": {},
   "outputs": [],
   "source": []
  }
 ],
 "metadata": {
  "kernelspec": {
   "display_name": "Python 3 (ipykernel)",
   "language": "python",
   "name": "python3"
  },
  "language_info": {
   "codemirror_mode": {
    "name": "ipython",
    "version": 3
   },
   "file_extension": ".py",
   "mimetype": "text/x-python",
   "name": "python",
   "nbconvert_exporter": "python",
   "pygments_lexer": "ipython3",
   "version": "3.11.5"
  }
 },
 "nbformat": 4,
 "nbformat_minor": 5
}
